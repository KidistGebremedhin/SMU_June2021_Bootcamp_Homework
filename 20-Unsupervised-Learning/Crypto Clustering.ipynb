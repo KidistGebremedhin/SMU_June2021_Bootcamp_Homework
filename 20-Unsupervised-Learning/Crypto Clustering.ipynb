{
 "cells": [
  {
   "cell_type": "code",
   "execution_count": 1,
   "id": "0f721fdb",
   "metadata": {},
   "outputs": [],
   "source": [
    "import pandas as pd\n",
    "import numpy as np\n",
    "import matplotlib.pyplot as plt"
   ]
  },
  {
   "cell_type": "code",
   "execution_count": 2,
   "id": "25cceb66",
   "metadata": {},
   "outputs": [
    {
     "data": {
      "text/html": [
       "<div>\n",
       "<style scoped>\n",
       "    .dataframe tbody tr th:only-of-type {\n",
       "        vertical-align: middle;\n",
       "    }\n",
       "\n",
       "    .dataframe tbody tr th {\n",
       "        vertical-align: top;\n",
       "    }\n",
       "\n",
       "    .dataframe thead th {\n",
       "        text-align: right;\n",
       "    }\n",
       "</style>\n",
       "<table border=\"1\" class=\"dataframe\">\n",
       "  <thead>\n",
       "    <tr style=\"text-align: right;\">\n",
       "      <th></th>\n",
       "      <th>Unnamed: 0</th>\n",
       "      <th>CoinName</th>\n",
       "      <th>Algorithm</th>\n",
       "      <th>IsTrading</th>\n",
       "      <th>ProofType</th>\n",
       "      <th>TotalCoinsMined</th>\n",
       "      <th>TotalCoinSupply</th>\n",
       "    </tr>\n",
       "  </thead>\n",
       "  <tbody>\n",
       "    <tr>\n",
       "      <th>0</th>\n",
       "      <td>42</td>\n",
       "      <td>42 Coin</td>\n",
       "      <td>Scrypt</td>\n",
       "      <td>True</td>\n",
       "      <td>PoW/PoS</td>\n",
       "      <td>4.199995e+01</td>\n",
       "      <td>42</td>\n",
       "    </tr>\n",
       "    <tr>\n",
       "      <th>1</th>\n",
       "      <td>365</td>\n",
       "      <td>365Coin</td>\n",
       "      <td>X11</td>\n",
       "      <td>True</td>\n",
       "      <td>PoW/PoS</td>\n",
       "      <td>NaN</td>\n",
       "      <td>2300000000</td>\n",
       "    </tr>\n",
       "    <tr>\n",
       "      <th>2</th>\n",
       "      <td>404</td>\n",
       "      <td>404Coin</td>\n",
       "      <td>Scrypt</td>\n",
       "      <td>True</td>\n",
       "      <td>PoW/PoS</td>\n",
       "      <td>1.055185e+09</td>\n",
       "      <td>532000000</td>\n",
       "    </tr>\n",
       "    <tr>\n",
       "      <th>3</th>\n",
       "      <td>611</td>\n",
       "      <td>SixEleven</td>\n",
       "      <td>SHA-256</td>\n",
       "      <td>True</td>\n",
       "      <td>PoW</td>\n",
       "      <td>NaN</td>\n",
       "      <td>611000</td>\n",
       "    </tr>\n",
       "    <tr>\n",
       "      <th>4</th>\n",
       "      <td>808</td>\n",
       "      <td>808</td>\n",
       "      <td>SHA-256</td>\n",
       "      <td>True</td>\n",
       "      <td>PoW/PoS</td>\n",
       "      <td>0.000000e+00</td>\n",
       "      <td>0</td>\n",
       "    </tr>\n",
       "  </tbody>\n",
       "</table>\n",
       "</div>"
      ],
      "text/plain": [
       "  Unnamed: 0   CoinName Algorithm  IsTrading ProofType  TotalCoinsMined  \\\n",
       "0         42    42 Coin    Scrypt       True   PoW/PoS     4.199995e+01   \n",
       "1        365    365Coin       X11       True   PoW/PoS              NaN   \n",
       "2        404    404Coin    Scrypt       True   PoW/PoS     1.055185e+09   \n",
       "3        611  SixEleven   SHA-256       True       PoW              NaN   \n",
       "4        808        808   SHA-256       True   PoW/PoS     0.000000e+00   \n",
       "\n",
       "  TotalCoinSupply  \n",
       "0              42  \n",
       "1      2300000000  \n",
       "2       532000000  \n",
       "3          611000  \n",
       "4               0  "
      ]
     },
     "execution_count": 2,
     "metadata": {},
     "output_type": "execute_result"
    }
   ],
   "source": [
    "df = pd.read_csv(\"crypto_data.csv\")\n",
    "df.head()"
   ]
  },
  {
   "cell_type": "code",
   "execution_count": 5,
   "id": "5c213b38",
   "metadata": {},
   "outputs": [
    {
     "data": {
      "text/plain": [
       "0       False\n",
       "1       False\n",
       "2       False\n",
       "3       False\n",
       "4       False\n",
       "        ...  \n",
       "1247    False\n",
       "1248    False\n",
       "1249    False\n",
       "1250    False\n",
       "1251    False\n",
       "Name: TotalCoinSupply, Length: 1252, dtype: bool"
      ]
     },
     "execution_count": 5,
     "metadata": {},
     "output_type": "execute_result"
    }
   ],
   "source": [
    "pd.to_numeric(df.TotalCoinSupply, errors='coerce').isnull()"
   ]
  },
  {
   "cell_type": "markdown",
   "id": "eed1c014",
   "metadata": {},
   "source": [
    "# Data Preparation"
   ]
  },
  {
   "cell_type": "code",
   "execution_count": 6,
   "id": "edf1e0d6",
   "metadata": {},
   "outputs": [
    {
     "name": "stdout",
     "output_type": "stream",
     "text": [
      "<class 'pandas.core.frame.DataFrame'>\n",
      "RangeIndex: 1144 entries, 0 to 1143\n",
      "Data columns (total 7 columns):\n",
      " #   Column           Non-Null Count  Dtype  \n",
      "---  ------           --------------  -----  \n",
      " 0   Unnamed: 0       1144 non-null   object \n",
      " 1   CoinName         1144 non-null   object \n",
      " 2   Algorithm        1144 non-null   object \n",
      " 3   IsTrading        1144 non-null   bool   \n",
      " 4   ProofType        1144 non-null   object \n",
      " 5   TotalCoinsMined  685 non-null    float64\n",
      " 6   TotalCoinSupply  1144 non-null   object \n",
      "dtypes: bool(1), float64(1), object(5)\n",
      "memory usage: 54.9+ KB\n"
     ]
    }
   ],
   "source": [
    "df_sub = df.copy()\n",
    "\n",
    "df_sub = df_sub.loc[df_sub.IsTrading == True].reset_index(drop=True)\n",
    "\n",
    "df_sub.info()"
   ]
  },
  {
   "cell_type": "code",
   "execution_count": 7,
   "id": "3d80a459",
   "metadata": {},
   "outputs": [
    {
     "name": "stdout",
     "output_type": "stream",
     "text": [
      "<class 'pandas.core.frame.DataFrame'>\n",
      "RangeIndex: 685 entries, 0 to 684\n",
      "Data columns (total 7 columns):\n",
      " #   Column           Non-Null Count  Dtype  \n",
      "---  ------           --------------  -----  \n",
      " 0   Unnamed: 0       685 non-null    object \n",
      " 1   CoinName         685 non-null    object \n",
      " 2   Algorithm        685 non-null    object \n",
      " 3   IsTrading        685 non-null    bool   \n",
      " 4   ProofType        685 non-null    object \n",
      " 5   TotalCoinsMined  685 non-null    float64\n",
      " 6   TotalCoinSupply  685 non-null    object \n",
      "dtypes: bool(1), float64(1), object(5)\n",
      "memory usage: 32.9+ KB\n"
     ]
    }
   ],
   "source": [
    "df_sub = df_sub.dropna(how=\"any\").reset_index(drop=True)\n",
    "df_sub.info()"
   ]
  },
  {
   "cell_type": "code",
   "execution_count": 8,
   "id": "4baf3d05",
   "metadata": {},
   "outputs": [
    {
     "data": {
      "text/html": [
       "<div>\n",
       "<style scoped>\n",
       "    .dataframe tbody tr th:only-of-type {\n",
       "        vertical-align: middle;\n",
       "    }\n",
       "\n",
       "    .dataframe tbody tr th {\n",
       "        vertical-align: top;\n",
       "    }\n",
       "\n",
       "    .dataframe thead th {\n",
       "        text-align: right;\n",
       "    }\n",
       "</style>\n",
       "<table border=\"1\" class=\"dataframe\">\n",
       "  <thead>\n",
       "    <tr style=\"text-align: right;\">\n",
       "      <th></th>\n",
       "      <th>Unnamed: 0</th>\n",
       "      <th>CoinName</th>\n",
       "      <th>Algorithm</th>\n",
       "      <th>IsTrading</th>\n",
       "      <th>ProofType</th>\n",
       "      <th>TotalCoinsMined</th>\n",
       "      <th>TotalCoinSupply</th>\n",
       "    </tr>\n",
       "  </thead>\n",
       "  <tbody>\n",
       "    <tr>\n",
       "      <th>667</th>\n",
       "      <td>FIII</td>\n",
       "      <td>Fiii</td>\n",
       "      <td>SHA3-256</td>\n",
       "      <td>True</td>\n",
       "      <td>DPoC</td>\n",
       "      <td>-5.917978e+09</td>\n",
       "      <td>5000000000</td>\n",
       "    </tr>\n",
       "    <tr>\n",
       "      <th>408</th>\n",
       "      <td>LBTC</td>\n",
       "      <td>LiteBitcoin</td>\n",
       "      <td>Scrypt</td>\n",
       "      <td>True</td>\n",
       "      <td>PoW</td>\n",
       "      <td>0.000000e+00</td>\n",
       "      <td>1000000000</td>\n",
       "    </tr>\n",
       "    <tr>\n",
       "      <th>101</th>\n",
       "      <td>RIPO</td>\n",
       "      <td>RipOffCoin</td>\n",
       "      <td>Scrypt</td>\n",
       "      <td>True</td>\n",
       "      <td>PoW</td>\n",
       "      <td>0.000000e+00</td>\n",
       "      <td>12000000</td>\n",
       "    </tr>\n",
       "    <tr>\n",
       "      <th>291</th>\n",
       "      <td>BASH</td>\n",
       "      <td>LuckChain</td>\n",
       "      <td>Scrypt</td>\n",
       "      <td>True</td>\n",
       "      <td>PoW/PoS</td>\n",
       "      <td>0.000000e+00</td>\n",
       "      <td>1000000000</td>\n",
       "    </tr>\n",
       "    <tr>\n",
       "      <th>287</th>\n",
       "      <td>CSH</td>\n",
       "      <td>CashOut</td>\n",
       "      <td>SHA-256</td>\n",
       "      <td>True</td>\n",
       "      <td>PoW</td>\n",
       "      <td>0.000000e+00</td>\n",
       "      <td>100000000</td>\n",
       "    </tr>\n",
       "    <tr>\n",
       "      <th>...</th>\n",
       "      <td>...</td>\n",
       "      <td>...</td>\n",
       "      <td>...</td>\n",
       "      <td>...</td>\n",
       "      <td>...</td>\n",
       "      <td>...</td>\n",
       "      <td>...</td>\n",
       "    </tr>\n",
       "    <tr>\n",
       "      <th>571</th>\n",
       "      <td>QWC</td>\n",
       "      <td>Qwertycoin</td>\n",
       "      <td>CryptoNight Heavy</td>\n",
       "      <td>True</td>\n",
       "      <td>PoW</td>\n",
       "      <td>9.955311e+10</td>\n",
       "      <td>184470000000</td>\n",
       "    </tr>\n",
       "    <tr>\n",
       "      <th>407</th>\n",
       "      <td>NYC</td>\n",
       "      <td>NewYorkCoin</td>\n",
       "      <td>Scrypt</td>\n",
       "      <td>True</td>\n",
       "      <td>PoW</td>\n",
       "      <td>1.430067e+11</td>\n",
       "      <td>0</td>\n",
       "    </tr>\n",
       "    <tr>\n",
       "      <th>395</th>\n",
       "      <td>GCN</td>\n",
       "      <td>gCn Coin</td>\n",
       "      <td>Scrypt</td>\n",
       "      <td>True</td>\n",
       "      <td>PoW</td>\n",
       "      <td>1.630551e+11</td>\n",
       "      <td>200000000000</td>\n",
       "    </tr>\n",
       "    <tr>\n",
       "      <th>136</th>\n",
       "      <td>BCN</td>\n",
       "      <td>ByteCoin</td>\n",
       "      <td>CryptoNight</td>\n",
       "      <td>True</td>\n",
       "      <td>PoW</td>\n",
       "      <td>1.840668e+11</td>\n",
       "      <td>184467440735</td>\n",
       "    </tr>\n",
       "    <tr>\n",
       "      <th>678</th>\n",
       "      <td>BTT</td>\n",
       "      <td>BitTorrent</td>\n",
       "      <td>TRC10</td>\n",
       "      <td>True</td>\n",
       "      <td>DPoS</td>\n",
       "      <td>9.899887e+11</td>\n",
       "      <td>990000000000</td>\n",
       "    </tr>\n",
       "  </tbody>\n",
       "</table>\n",
       "<p>685 rows × 7 columns</p>\n",
       "</div>"
      ],
      "text/plain": [
       "    Unnamed: 0     CoinName          Algorithm  IsTrading ProofType  \\\n",
       "667       FIII         Fiii           SHA3-256       True      DPoC   \n",
       "408       LBTC  LiteBitcoin             Scrypt       True       PoW   \n",
       "101       RIPO   RipOffCoin             Scrypt       True       PoW   \n",
       "291       BASH    LuckChain             Scrypt       True   PoW/PoS   \n",
       "287        CSH      CashOut            SHA-256       True       PoW   \n",
       "..         ...          ...                ...        ...       ...   \n",
       "571        QWC   Qwertycoin  CryptoNight Heavy       True       PoW   \n",
       "407        NYC  NewYorkCoin             Scrypt       True       PoW   \n",
       "395        GCN     gCn Coin             Scrypt       True       PoW   \n",
       "136        BCN     ByteCoin        CryptoNight       True       PoW   \n",
       "678        BTT   BitTorrent              TRC10       True      DPoS   \n",
       "\n",
       "     TotalCoinsMined TotalCoinSupply  \n",
       "667    -5.917978e+09      5000000000  \n",
       "408     0.000000e+00      1000000000  \n",
       "101     0.000000e+00        12000000  \n",
       "291     0.000000e+00      1000000000  \n",
       "287     0.000000e+00       100000000  \n",
       "..               ...             ...  \n",
       "571     9.955311e+10    184470000000  \n",
       "407     1.430067e+11               0  \n",
       "395     1.630551e+11    200000000000  \n",
       "136     1.840668e+11    184467440735  \n",
       "678     9.899887e+11    990000000000  \n",
       "\n",
       "[685 rows x 7 columns]"
      ]
     },
     "execution_count": 8,
     "metadata": {},
     "output_type": "execute_result"
    }
   ],
   "source": [
    "df_sub.sort_values(by=\"TotalCoinsMined\")"
   ]
  },
  {
   "cell_type": "code",
   "execution_count": 9,
   "id": "8842bc3f",
   "metadata": {},
   "outputs": [
    {
     "name": "stdout",
     "output_type": "stream",
     "text": [
      "<class 'pandas.core.frame.DataFrame'>\n",
      "RangeIndex: 532 entries, 0 to 531\n",
      "Data columns (total 7 columns):\n",
      " #   Column           Non-Null Count  Dtype  \n",
      "---  ------           --------------  -----  \n",
      " 0   Unnamed: 0       532 non-null    object \n",
      " 1   CoinName         532 non-null    object \n",
      " 2   Algorithm        532 non-null    object \n",
      " 3   IsTrading        532 non-null    bool   \n",
      " 4   ProofType        532 non-null    object \n",
      " 5   TotalCoinsMined  532 non-null    float64\n",
      " 6   TotalCoinSupply  532 non-null    object \n",
      "dtypes: bool(1), float64(1), object(5)\n",
      "memory usage: 25.6+ KB\n"
     ]
    }
   ],
   "source": [
    "mask = df_sub.TotalCoinsMined > 0\n",
    "df_sub = df_sub.loc[mask].reset_index(drop=True)\n",
    "df_sub.info()"
   ]
  },
  {
   "cell_type": "code",
   "execution_count": 10,
   "id": "246710db",
   "metadata": {},
   "outputs": [
    {
     "name": "stdout",
     "output_type": "stream",
     "text": [
      "<class 'pandas.core.frame.DataFrame'>\n",
      "RangeIndex: 532 entries, 0 to 531\n",
      "Data columns (total 7 columns):\n",
      " #   Column           Non-Null Count  Dtype  \n",
      "---  ------           --------------  -----  \n",
      " 0   Unnamed: 0       532 non-null    object \n",
      " 1   CoinName         532 non-null    object \n",
      " 2   Algorithm        532 non-null    object \n",
      " 3   IsTrading        532 non-null    bool   \n",
      " 4   ProofType        532 non-null    object \n",
      " 5   TotalCoinsMined  532 non-null    float64\n",
      " 6   TotalCoinSupply  532 non-null    float64\n",
      "dtypes: bool(1), float64(2), object(4)\n",
      "memory usage: 25.6+ KB\n"
     ]
    }
   ],
   "source": [
    "df_sub[\"TotalCoinSupply\"] = pd.to_numeric(df_sub.TotalCoinSupply)\n",
    "df_sub.info()"
   ]
  },
  {
   "cell_type": "code",
   "execution_count": 11,
   "id": "e7d84c19",
   "metadata": {},
   "outputs": [
    {
     "data": {
      "text/plain": [
       "['PoW',\n",
       " 'PoW/PoS',\n",
       " 'PoS',\n",
       " 'DPoS',\n",
       " 'PoC',\n",
       " 'PoS/PoW',\n",
       " 'PoW/PoS ',\n",
       " 'Pos',\n",
       " 'PoS/LPoS',\n",
       " 'TPoS',\n",
       " 'PoA',\n",
       " 'DPOS',\n",
       " 'PoW and PoS',\n",
       " 'PoST',\n",
       " 'Proof of Authority',\n",
       " 'Zero-Knowledge Proof',\n",
       " 'PoW/nPoS',\n",
       " 'Proof of Trust',\n",
       " 'dPoW/PoW',\n",
       " 'PoW/PoW',\n",
       " 'PoS/PoW/PoT',\n",
       " 'POBh',\n",
       " 'HPoW',\n",
       " 'PoW + Hive',\n",
       " 'LPoS']"
      ]
     },
     "execution_count": 11,
     "metadata": {},
     "output_type": "execute_result"
    }
   ],
   "source": [
    "[x for x in df_sub.ProofType.value_counts().index]"
   ]
  },
  {
   "cell_type": "code",
   "execution_count": 12,
   "id": "fc57a3ea",
   "metadata": {},
   "outputs": [],
   "source": [
    "df_sub.loc[df_sub.ProofType == \"PoW/PoS \", \"ProofType\"] = \"PoW/PoS\"\n",
    "df_sub.loc[df_sub.ProofType == \"Pos\", \"ProofType\"] = \"PoS\"\n",
    "df_sub.loc[df_sub.ProofType == \"Proof of Authority\", \"ProofType\"] = \"PoA\"\n",
    "df_sub.loc[df_sub.ProofType == \"PoW and PoS\", \"ProofType\"] = \"PoW/PoS\"\n",
    "df_sub.loc[df_sub.ProofType == \"Proof of Trust\", \"ProofType\"] = \"PoT\""
   ]
  },
  {
   "cell_type": "code",
   "execution_count": 13,
   "id": "3dde10bb",
   "metadata": {},
   "outputs": [
    {
     "data": {
      "text/plain": [
       "['PoW',\n",
       " 'PoW/PoS',\n",
       " 'PoS',\n",
       " 'DPoS',\n",
       " 'PoC',\n",
       " 'PoS/PoW',\n",
       " 'PoA',\n",
       " 'PoS/LPoS',\n",
       " 'TPoS',\n",
       " 'PoT',\n",
       " 'DPOS',\n",
       " 'PoST',\n",
       " 'PoW/nPoS',\n",
       " 'Zero-Knowledge Proof',\n",
       " 'PoW + Hive',\n",
       " 'dPoW/PoW',\n",
       " 'PoW/PoW',\n",
       " 'PoS/PoW/PoT',\n",
       " 'POBh',\n",
       " 'HPoW',\n",
       " 'LPoS']"
      ]
     },
     "execution_count": 13,
     "metadata": {},
     "output_type": "execute_result"
    }
   ],
   "source": [
    "[x for x in df_sub.ProofType.value_counts().index]"
   ]
  },
  {
   "cell_type": "code",
   "execution_count": 14,
   "id": "e031f809",
   "metadata": {},
   "outputs": [
    {
     "data": {
      "text/html": [
       "<div>\n",
       "<style scoped>\n",
       "    .dataframe tbody tr th:only-of-type {\n",
       "        vertical-align: middle;\n",
       "    }\n",
       "\n",
       "    .dataframe tbody tr th {\n",
       "        vertical-align: top;\n",
       "    }\n",
       "\n",
       "    .dataframe thead th {\n",
       "        text-align: right;\n",
       "    }\n",
       "</style>\n",
       "<table border=\"1\" class=\"dataframe\">\n",
       "  <thead>\n",
       "    <tr style=\"text-align: right;\">\n",
       "      <th></th>\n",
       "      <th>Algorithm</th>\n",
       "      <th>ProofType</th>\n",
       "      <th>TotalCoinsMined</th>\n",
       "      <th>TotalCoinSupply</th>\n",
       "    </tr>\n",
       "  </thead>\n",
       "  <tbody>\n",
       "    <tr>\n",
       "      <th>0</th>\n",
       "      <td>Scrypt</td>\n",
       "      <td>PoW/PoS</td>\n",
       "      <td>4.199995e+01</td>\n",
       "      <td>4.200000e+01</td>\n",
       "    </tr>\n",
       "    <tr>\n",
       "      <th>1</th>\n",
       "      <td>Scrypt</td>\n",
       "      <td>PoW/PoS</td>\n",
       "      <td>1.055185e+09</td>\n",
       "      <td>5.320000e+08</td>\n",
       "    </tr>\n",
       "    <tr>\n",
       "      <th>2</th>\n",
       "      <td>X13</td>\n",
       "      <td>PoW/PoS</td>\n",
       "      <td>2.927942e+10</td>\n",
       "      <td>3.141593e+11</td>\n",
       "    </tr>\n",
       "    <tr>\n",
       "      <th>3</th>\n",
       "      <td>SHA-256</td>\n",
       "      <td>PoW</td>\n",
       "      <td>1.792718e+07</td>\n",
       "      <td>2.100000e+07</td>\n",
       "    </tr>\n",
       "    <tr>\n",
       "      <th>4</th>\n",
       "      <td>Ethash</td>\n",
       "      <td>PoW</td>\n",
       "      <td>1.076842e+08</td>\n",
       "      <td>0.000000e+00</td>\n",
       "    </tr>\n",
       "  </tbody>\n",
       "</table>\n",
       "</div>"
      ],
      "text/plain": [
       "  Algorithm ProofType  TotalCoinsMined  TotalCoinSupply\n",
       "0    Scrypt   PoW/PoS     4.199995e+01     4.200000e+01\n",
       "1    Scrypt   PoW/PoS     1.055185e+09     5.320000e+08\n",
       "2       X13   PoW/PoS     2.927942e+10     3.141593e+11\n",
       "3   SHA-256       PoW     1.792718e+07     2.100000e+07\n",
       "4    Ethash       PoW     1.076842e+08     0.000000e+00"
      ]
     },
     "execution_count": 14,
     "metadata": {},
     "output_type": "execute_result"
    }
   ],
   "source": [
    "coin_sub = df_sub.CoinName\n",
    "\n",
    "df_sub.drop([\"Unnamed: 0\", \"CoinName\", \"IsTrading\"], axis=1, inplace=True)\n",
    "df_sub.head()"
   ]
  },
  {
   "cell_type": "code",
   "execution_count": 15,
   "id": "359a0eff",
   "metadata": {},
   "outputs": [
    {
     "data": {
      "text/html": [
       "<div>\n",
       "<style scoped>\n",
       "    .dataframe tbody tr th:only-of-type {\n",
       "        vertical-align: middle;\n",
       "    }\n",
       "\n",
       "    .dataframe tbody tr th {\n",
       "        vertical-align: top;\n",
       "    }\n",
       "\n",
       "    .dataframe thead th {\n",
       "        text-align: right;\n",
       "    }\n",
       "</style>\n",
       "<table border=\"1\" class=\"dataframe\">\n",
       "  <thead>\n",
       "    <tr style=\"text-align: right;\">\n",
       "      <th></th>\n",
       "      <th>TotalCoinsMined</th>\n",
       "      <th>TotalCoinSupply</th>\n",
       "      <th>Algorithm_1GB AES Pattern Search</th>\n",
       "      <th>Algorithm_536</th>\n",
       "      <th>Algorithm_Argon2d</th>\n",
       "      <th>Algorithm_BLAKE256</th>\n",
       "      <th>Algorithm_Blake</th>\n",
       "      <th>Algorithm_Blake2S</th>\n",
       "      <th>Algorithm_Blake2b</th>\n",
       "      <th>Algorithm_C11</th>\n",
       "      <th>...</th>\n",
       "      <th>ProofType_PoST</th>\n",
       "      <th>ProofType_PoT</th>\n",
       "      <th>ProofType_PoW</th>\n",
       "      <th>ProofType_PoW + Hive</th>\n",
       "      <th>ProofType_PoW/PoS</th>\n",
       "      <th>ProofType_PoW/PoW</th>\n",
       "      <th>ProofType_PoW/nPoS</th>\n",
       "      <th>ProofType_TPoS</th>\n",
       "      <th>ProofType_Zero-Knowledge Proof</th>\n",
       "      <th>ProofType_dPoW/PoW</th>\n",
       "    </tr>\n",
       "  </thead>\n",
       "  <tbody>\n",
       "    <tr>\n",
       "      <th>0</th>\n",
       "      <td>4.199995e+01</td>\n",
       "      <td>4.200000e+01</td>\n",
       "      <td>0</td>\n",
       "      <td>0</td>\n",
       "      <td>0</td>\n",
       "      <td>0</td>\n",
       "      <td>0</td>\n",
       "      <td>0</td>\n",
       "      <td>0</td>\n",
       "      <td>0</td>\n",
       "      <td>...</td>\n",
       "      <td>0</td>\n",
       "      <td>0</td>\n",
       "      <td>0</td>\n",
       "      <td>0</td>\n",
       "      <td>1</td>\n",
       "      <td>0</td>\n",
       "      <td>0</td>\n",
       "      <td>0</td>\n",
       "      <td>0</td>\n",
       "      <td>0</td>\n",
       "    </tr>\n",
       "    <tr>\n",
       "      <th>1</th>\n",
       "      <td>1.055185e+09</td>\n",
       "      <td>5.320000e+08</td>\n",
       "      <td>0</td>\n",
       "      <td>0</td>\n",
       "      <td>0</td>\n",
       "      <td>0</td>\n",
       "      <td>0</td>\n",
       "      <td>0</td>\n",
       "      <td>0</td>\n",
       "      <td>0</td>\n",
       "      <td>...</td>\n",
       "      <td>0</td>\n",
       "      <td>0</td>\n",
       "      <td>0</td>\n",
       "      <td>0</td>\n",
       "      <td>1</td>\n",
       "      <td>0</td>\n",
       "      <td>0</td>\n",
       "      <td>0</td>\n",
       "      <td>0</td>\n",
       "      <td>0</td>\n",
       "    </tr>\n",
       "    <tr>\n",
       "      <th>2</th>\n",
       "      <td>2.927942e+10</td>\n",
       "      <td>3.141593e+11</td>\n",
       "      <td>0</td>\n",
       "      <td>0</td>\n",
       "      <td>0</td>\n",
       "      <td>0</td>\n",
       "      <td>0</td>\n",
       "      <td>0</td>\n",
       "      <td>0</td>\n",
       "      <td>0</td>\n",
       "      <td>...</td>\n",
       "      <td>0</td>\n",
       "      <td>0</td>\n",
       "      <td>0</td>\n",
       "      <td>0</td>\n",
       "      <td>1</td>\n",
       "      <td>0</td>\n",
       "      <td>0</td>\n",
       "      <td>0</td>\n",
       "      <td>0</td>\n",
       "      <td>0</td>\n",
       "    </tr>\n",
       "    <tr>\n",
       "      <th>3</th>\n",
       "      <td>1.792718e+07</td>\n",
       "      <td>2.100000e+07</td>\n",
       "      <td>0</td>\n",
       "      <td>0</td>\n",
       "      <td>0</td>\n",
       "      <td>0</td>\n",
       "      <td>0</td>\n",
       "      <td>0</td>\n",
       "      <td>0</td>\n",
       "      <td>0</td>\n",
       "      <td>...</td>\n",
       "      <td>0</td>\n",
       "      <td>0</td>\n",
       "      <td>1</td>\n",
       "      <td>0</td>\n",
       "      <td>0</td>\n",
       "      <td>0</td>\n",
       "      <td>0</td>\n",
       "      <td>0</td>\n",
       "      <td>0</td>\n",
       "      <td>0</td>\n",
       "    </tr>\n",
       "    <tr>\n",
       "      <th>4</th>\n",
       "      <td>1.076842e+08</td>\n",
       "      <td>0.000000e+00</td>\n",
       "      <td>0</td>\n",
       "      <td>0</td>\n",
       "      <td>0</td>\n",
       "      <td>0</td>\n",
       "      <td>0</td>\n",
       "      <td>0</td>\n",
       "      <td>0</td>\n",
       "      <td>0</td>\n",
       "      <td>...</td>\n",
       "      <td>0</td>\n",
       "      <td>0</td>\n",
       "      <td>1</td>\n",
       "      <td>0</td>\n",
       "      <td>0</td>\n",
       "      <td>0</td>\n",
       "      <td>0</td>\n",
       "      <td>0</td>\n",
       "      <td>0</td>\n",
       "      <td>0</td>\n",
       "    </tr>\n",
       "  </tbody>\n",
       "</table>\n",
       "<p>5 rows × 94 columns</p>\n",
       "</div>"
      ],
      "text/plain": [
       "   TotalCoinsMined  TotalCoinSupply  Algorithm_1GB AES Pattern Search  \\\n",
       "0     4.199995e+01     4.200000e+01                                 0   \n",
       "1     1.055185e+09     5.320000e+08                                 0   \n",
       "2     2.927942e+10     3.141593e+11                                 0   \n",
       "3     1.792718e+07     2.100000e+07                                 0   \n",
       "4     1.076842e+08     0.000000e+00                                 0   \n",
       "\n",
       "   Algorithm_536  Algorithm_Argon2d  Algorithm_BLAKE256  Algorithm_Blake  \\\n",
       "0              0                  0                   0                0   \n",
       "1              0                  0                   0                0   \n",
       "2              0                  0                   0                0   \n",
       "3              0                  0                   0                0   \n",
       "4              0                  0                   0                0   \n",
       "\n",
       "   Algorithm_Blake2S  Algorithm_Blake2b  Algorithm_C11  ...  ProofType_PoST  \\\n",
       "0                  0                  0              0  ...               0   \n",
       "1                  0                  0              0  ...               0   \n",
       "2                  0                  0              0  ...               0   \n",
       "3                  0                  0              0  ...               0   \n",
       "4                  0                  0              0  ...               0   \n",
       "\n",
       "   ProofType_PoT  ProofType_PoW  ProofType_PoW + Hive  ProofType_PoW/PoS  \\\n",
       "0              0              0                     0                  1   \n",
       "1              0              0                     0                  1   \n",
       "2              0              0                     0                  1   \n",
       "3              0              1                     0                  0   \n",
       "4              0              1                     0                  0   \n",
       "\n",
       "   ProofType_PoW/PoW  ProofType_PoW/nPoS  ProofType_TPoS  \\\n",
       "0                  0                   0               0   \n",
       "1                  0                   0               0   \n",
       "2                  0                   0               0   \n",
       "3                  0                   0               0   \n",
       "4                  0                   0               0   \n",
       "\n",
       "   ProofType_Zero-Knowledge Proof  ProofType_dPoW/PoW  \n",
       "0                               0                   0  \n",
       "1                               0                   0  \n",
       "2                               0                   0  \n",
       "3                               0                   0  \n",
       "4                               0                   0  \n",
       "\n",
       "[5 rows x 94 columns]"
      ]
     },
     "execution_count": 15,
     "metadata": {},
     "output_type": "execute_result"
    }
   ],
   "source": [
    "df_sub2 = pd.get_dummies(df_sub)\n",
    "df_sub2.head()"
   ]
  },
  {
   "cell_type": "code",
   "execution_count": 16,
   "id": "48a85d08",
   "metadata": {},
   "outputs": [],
   "source": [
    "from sklearn.preprocessing import StandardScaler"
   ]
  },
  {
   "cell_type": "code",
   "execution_count": 17,
   "id": "a7e1d712",
   "metadata": {},
   "outputs": [],
   "source": [
    "scaler = StandardScaler()\n",
    "scaler = scaler.fit(df_sub2.loc[:, [\"TotalCoinsMined\", \"TotalCoinSupply\"]])\n",
    "# scaler = scaler.fit(df_sub)"
   ]
  },
  {
   "cell_type": "code",
   "execution_count": 18,
   "id": "19522e3c",
   "metadata": {},
   "outputs": [
    {
     "data": {
      "text/html": [
       "<div>\n",
       "<style scoped>\n",
       "    .dataframe tbody tr th:only-of-type {\n",
       "        vertical-align: middle;\n",
       "    }\n",
       "\n",
       "    .dataframe tbody tr th {\n",
       "        vertical-align: top;\n",
       "    }\n",
       "\n",
       "    .dataframe thead th {\n",
       "        text-align: right;\n",
       "    }\n",
       "</style>\n",
       "<table border=\"1\" class=\"dataframe\">\n",
       "  <thead>\n",
       "    <tr style=\"text-align: right;\">\n",
       "      <th></th>\n",
       "      <th>TotalCoinsMined</th>\n",
       "      <th>TotalCoinSupply</th>\n",
       "      <th>Algorithm_1GB AES Pattern Search</th>\n",
       "      <th>Algorithm_536</th>\n",
       "      <th>Algorithm_Argon2d</th>\n",
       "      <th>Algorithm_BLAKE256</th>\n",
       "      <th>Algorithm_Blake</th>\n",
       "      <th>Algorithm_Blake2S</th>\n",
       "      <th>Algorithm_Blake2b</th>\n",
       "      <th>Algorithm_C11</th>\n",
       "      <th>...</th>\n",
       "      <th>ProofType_PoST</th>\n",
       "      <th>ProofType_PoT</th>\n",
       "      <th>ProofType_PoW</th>\n",
       "      <th>ProofType_PoW + Hive</th>\n",
       "      <th>ProofType_PoW/PoS</th>\n",
       "      <th>ProofType_PoW/PoW</th>\n",
       "      <th>ProofType_PoW/nPoS</th>\n",
       "      <th>ProofType_TPoS</th>\n",
       "      <th>ProofType_Zero-Knowledge Proof</th>\n",
       "      <th>ProofType_dPoW/PoW</th>\n",
       "    </tr>\n",
       "  </thead>\n",
       "  <tbody>\n",
       "    <tr>\n",
       "      <th>0</th>\n",
       "      <td>-0.117108</td>\n",
       "      <td>-0.152870</td>\n",
       "      <td>0</td>\n",
       "      <td>0</td>\n",
       "      <td>0</td>\n",
       "      <td>0</td>\n",
       "      <td>0</td>\n",
       "      <td>0</td>\n",
       "      <td>0</td>\n",
       "      <td>0</td>\n",
       "      <td>...</td>\n",
       "      <td>0</td>\n",
       "      <td>0</td>\n",
       "      <td>0</td>\n",
       "      <td>0</td>\n",
       "      <td>1</td>\n",
       "      <td>0</td>\n",
       "      <td>0</td>\n",
       "      <td>0</td>\n",
       "      <td>0</td>\n",
       "      <td>0</td>\n",
       "    </tr>\n",
       "    <tr>\n",
       "      <th>1</th>\n",
       "      <td>-0.093970</td>\n",
       "      <td>-0.145009</td>\n",
       "      <td>0</td>\n",
       "      <td>0</td>\n",
       "      <td>0</td>\n",
       "      <td>0</td>\n",
       "      <td>0</td>\n",
       "      <td>0</td>\n",
       "      <td>0</td>\n",
       "      <td>0</td>\n",
       "      <td>...</td>\n",
       "      <td>0</td>\n",
       "      <td>0</td>\n",
       "      <td>0</td>\n",
       "      <td>0</td>\n",
       "      <td>1</td>\n",
       "      <td>0</td>\n",
       "      <td>0</td>\n",
       "      <td>0</td>\n",
       "      <td>0</td>\n",
       "      <td>0</td>\n",
       "    </tr>\n",
       "    <tr>\n",
       "      <th>2</th>\n",
       "      <td>0.524946</td>\n",
       "      <td>4.489424</td>\n",
       "      <td>0</td>\n",
       "      <td>0</td>\n",
       "      <td>0</td>\n",
       "      <td>0</td>\n",
       "      <td>0</td>\n",
       "      <td>0</td>\n",
       "      <td>0</td>\n",
       "      <td>0</td>\n",
       "      <td>...</td>\n",
       "      <td>0</td>\n",
       "      <td>0</td>\n",
       "      <td>0</td>\n",
       "      <td>0</td>\n",
       "      <td>1</td>\n",
       "      <td>0</td>\n",
       "      <td>0</td>\n",
       "      <td>0</td>\n",
       "      <td>0</td>\n",
       "      <td>0</td>\n",
       "    </tr>\n",
       "    <tr>\n",
       "      <th>3</th>\n",
       "      <td>-0.116715</td>\n",
       "      <td>-0.152560</td>\n",
       "      <td>0</td>\n",
       "      <td>0</td>\n",
       "      <td>0</td>\n",
       "      <td>0</td>\n",
       "      <td>0</td>\n",
       "      <td>0</td>\n",
       "      <td>0</td>\n",
       "      <td>0</td>\n",
       "      <td>...</td>\n",
       "      <td>0</td>\n",
       "      <td>0</td>\n",
       "      <td>1</td>\n",
       "      <td>0</td>\n",
       "      <td>0</td>\n",
       "      <td>0</td>\n",
       "      <td>0</td>\n",
       "      <td>0</td>\n",
       "      <td>0</td>\n",
       "      <td>0</td>\n",
       "    </tr>\n",
       "    <tr>\n",
       "      <th>4</th>\n",
       "      <td>-0.114747</td>\n",
       "      <td>-0.152870</td>\n",
       "      <td>0</td>\n",
       "      <td>0</td>\n",
       "      <td>0</td>\n",
       "      <td>0</td>\n",
       "      <td>0</td>\n",
       "      <td>0</td>\n",
       "      <td>0</td>\n",
       "      <td>0</td>\n",
       "      <td>...</td>\n",
       "      <td>0</td>\n",
       "      <td>0</td>\n",
       "      <td>1</td>\n",
       "      <td>0</td>\n",
       "      <td>0</td>\n",
       "      <td>0</td>\n",
       "      <td>0</td>\n",
       "      <td>0</td>\n",
       "      <td>0</td>\n",
       "      <td>0</td>\n",
       "    </tr>\n",
       "  </tbody>\n",
       "</table>\n",
       "<p>5 rows × 94 columns</p>\n",
       "</div>"
      ],
      "text/plain": [
       "   TotalCoinsMined  TotalCoinSupply  Algorithm_1GB AES Pattern Search  \\\n",
       "0        -0.117108        -0.152870                                 0   \n",
       "1        -0.093970        -0.145009                                 0   \n",
       "2         0.524946         4.489424                                 0   \n",
       "3        -0.116715        -0.152560                                 0   \n",
       "4        -0.114747        -0.152870                                 0   \n",
       "\n",
       "   Algorithm_536  Algorithm_Argon2d  Algorithm_BLAKE256  Algorithm_Blake  \\\n",
       "0              0                  0                   0                0   \n",
       "1              0                  0                   0                0   \n",
       "2              0                  0                   0                0   \n",
       "3              0                  0                   0                0   \n",
       "4              0                  0                   0                0   \n",
       "\n",
       "   Algorithm_Blake2S  Algorithm_Blake2b  Algorithm_C11  ...  ProofType_PoST  \\\n",
       "0                  0                  0              0  ...               0   \n",
       "1                  0                  0              0  ...               0   \n",
       "2                  0                  0              0  ...               0   \n",
       "3                  0                  0              0  ...               0   \n",
       "4                  0                  0              0  ...               0   \n",
       "\n",
       "   ProofType_PoT  ProofType_PoW  ProofType_PoW + Hive  ProofType_PoW/PoS  \\\n",
       "0              0              0                     0                  1   \n",
       "1              0              0                     0                  1   \n",
       "2              0              0                     0                  1   \n",
       "3              0              1                     0                  0   \n",
       "4              0              1                     0                  0   \n",
       "\n",
       "   ProofType_PoW/PoW  ProofType_PoW/nPoS  ProofType_TPoS  \\\n",
       "0                  0                   0               0   \n",
       "1                  0                   0               0   \n",
       "2                  0                   0               0   \n",
       "3                  0                   0               0   \n",
       "4                  0                   0               0   \n",
       "\n",
       "   ProofType_Zero-Knowledge Proof  ProofType_dPoW/PoW  \n",
       "0                               0                   0  \n",
       "1                               0                   0  \n",
       "2                               0                   0  \n",
       "3                               0                   0  \n",
       "4                               0                   0  \n",
       "\n",
       "[5 rows x 94 columns]"
      ]
     },
     "execution_count": 18,
     "metadata": {},
     "output_type": "execute_result"
    }
   ],
   "source": [
    "df_sub3 = df_sub2.copy()\n",
    "\n",
    "df_sub3.loc[:, [\"TotalCoinsMined\", \"TotalCoinSupply\"]] = scaler.transform(df_sub2.loc[:, [\"TotalCoinsMined\", \"TotalCoinSupply\"]])\n",
    "df_sub3.head()"
   ]
  },
  {
   "cell_type": "code",
   "execution_count": 19,
   "id": "d51da698",
   "metadata": {},
   "outputs": [],
   "source": [
    "from sklearn.manifold import TSNE"
   ]
  },
  {
   "cell_type": "code",
   "execution_count": 20,
   "id": "d414eeb3",
   "metadata": {},
   "outputs": [
    {
     "data": {
      "text/plain": [
       "(532, 2)"
      ]
     },
     "execution_count": 20,
     "metadata": {},
     "output_type": "execute_result"
    }
   ],
   "source": [
    "tsne = TSNE(learning_rate=35)\n",
    "# Reduce dimensions\n",
    "tsne_features = tsne.fit_transform(df_sub3)\n",
    "tsne_features.shape"
   ]
  },
  {
   "cell_type": "code",
   "execution_count": 21,
   "id": "46d7d4b1",
   "metadata": {},
   "outputs": [
    {
     "data": {
      "image/png": "[encoded data removed]",
      "text/plain": [
       "<Figure size 432x288 with 1 Axes>"
      ]
     },
     "metadata": {
      "needs_background": "light"
     },
     "output_type": "display_data"
    }
   ],
   "source": [
    "# Visualize the clusters\n",
    "plt.scatter(tsne_features[:,0], tsne_features[:,1])\n",
    "plt.show()"
   ]
  },
  {
   "cell_type": "markdown",
   "id": "7bbdd691",
   "metadata": {},
   "source": [
    "# PCA"
   ]
  },
  {
   "cell_type": "code",
   "execution_count": 22,
   "id": "85b92515",
   "metadata": {},
   "outputs": [],
   "source": [
    "from sklearn.decomposition import PCA"
   ]
  },
  {
   "cell_type": "code",
   "execution_count": 23,
   "id": "d59f0c6d",
   "metadata": {},
   "outputs": [
    {
     "name": "stdout",
     "output_type": "stream",
     "text": [
      "[4.86144130e-01 1.12847212e-01 8.45960792e-02 7.32508093e-02\n",
      " 5.77306595e-02 3.17660063e-02 1.97031162e-02 9.52271975e-03\n",
      " 8.92066253e-03 8.21403709e-03 7.70118235e-03 6.28819177e-03\n",
      " 5.84877136e-03 5.28749132e-03 4.91337373e-03 4.80729200e-03\n",
      " 3.99735722e-03 3.58612184e-03 3.08181848e-03 2.57597086e-03\n",
      " 2.14115526e-03 2.14115526e-03 2.14114718e-03 2.14049574e-03\n",
      " 2.12771942e-03 2.04914070e-03 1.84226967e-03 1.74607547e-03\n",
      " 1.70605685e-03 1.60585516e-03 1.60125900e-03 1.52901629e-03\n",
      " 1.47672963e-03 1.36767814e-03 1.26603922e-03 1.07747272e-03\n",
      " 1.07057763e-03 1.07057763e-03 1.07057763e-03 1.07057763e-03\n",
      " 1.07057763e-03 1.06898100e-03 1.06334477e-03 1.05790525e-03\n",
      " 1.02509486e-03 9.85277904e-04 7.99635191e-04 7.04929971e-04\n",
      " 5.35288814e-04 5.35288814e-04 5.35288814e-04 5.35288814e-04\n",
      " 5.35288814e-04 5.35288814e-04 5.35288814e-04 5.35288814e-04\n",
      " 5.35288814e-04 5.35288814e-04 5.35288814e-04 5.35288814e-04\n",
      " 5.35288814e-04 5.35288814e-04 5.35288814e-04 5.35288814e-04\n",
      " 5.35288814e-04 5.35288814e-04 5.35288814e-04 5.35288814e-04\n",
      " 5.35288814e-04 5.35288814e-04 5.35288814e-04 5.35288814e-04\n",
      " 5.35288814e-04 5.35288814e-04 5.35288814e-04 5.35288814e-04\n",
      " 5.34605597e-04 5.21392327e-04 5.17054371e-04 5.06909805e-04\n",
      " 4.90621330e-04 4.67458692e-04 3.23589751e-04 3.11159448e-04\n",
      " 2.76757307e-04 2.09423542e-04 5.26154807e-05 9.58750246e-32\n",
      " 1.41289153e-33 4.19885017e-34 6.64629583e-35 1.26236696e-35\n",
      " 7.63701214e-36 2.32713527e-36]\n",
      "1.0\n"
     ]
    }
   ],
   "source": [
    "pca = PCA()\n",
    "pca.fit(df_sub3)\n",
    "print(pca.explained_variance_ratio_)\n",
    "print(np.sum(pca.explained_variance_ratio_))"
   ]
  },
  {
   "cell_type": "code",
   "execution_count": 24,
   "id": "da2bb7dc",
   "metadata": {},
   "outputs": [
    {
     "data": {
      "image/png": "[encoded data removed]",
      "text/plain": [
       "<Figure size 432x288 with 1 Axes>"
      ]
     },
     "metadata": {
      "needs_background": "light"
     },
     "output_type": "display_data"
    }
   ],
   "source": [
    "plt.plot(range(len(pca.explained_variance_ratio_)), pca.explained_variance_ratio_)\n",
    "plt.show()"
   ]
  },
  {
   "cell_type": "code",
   "execution_count": 25,
   "id": "12719a45",
   "metadata": {},
   "outputs": [
    {
     "data": {
      "image/png": "[encoded data removed]",
      "text/plain": [
       "<Figure size 432x288 with 1 Axes>"
      ]
     },
     "metadata": {
      "needs_background": "light"
     },
     "output_type": "display_data"
    }
   ],
   "source": [
    "plt.plot(range(10), pca.explained_variance_ratio_[0:10])\n",
    "plt.show()"
   ]
  },
  {
   "cell_type": "code",
   "execution_count": 26,
   "id": "ae96b1a0",
   "metadata": {},
   "outputs": [
    {
     "data": {
      "text/plain": [
       "0.900396614178474"
      ]
     },
     "execution_count": 26,
     "metadata": {},
     "output_type": "execute_result"
    }
   ],
   "source": [
    "np.sum(pca.explained_variance_ratio_[0:11])"
   ]
  },
  {
   "cell_type": "code",
   "execution_count": 27,
   "id": "3a93efc6",
   "metadata": {},
   "outputs": [
    {
     "name": "stdout",
     "output_type": "stream",
     "text": [
      "[0.48614413 0.11284721 0.08459608 0.07325081 0.05773066 0.03176601\n",
      " 0.01970312 0.00952272 0.00892066 0.00821404 0.00770118]\n",
      "0.900396614178474\n"
     ]
    }
   ],
   "source": [
    "pca = PCA(n_components=0.90)\n",
    "pca.fit(df_sub3)\n",
    "print(pca.explained_variance_ratio_)\n",
    "print(np.sum(pca.explained_variance_ratio_))"
   ]
  },
  {
   "cell_type": "code",
   "execution_count": 28,
   "id": "29f309f9",
   "metadata": {},
   "outputs": [
    {
     "name": "stdout",
     "output_type": "stream",
     "text": [
      "11\n"
     ]
    }
   ],
   "source": [
    "print(len(pca.explained_variance_ratio_))"
   ]
  },
  {
   "cell_type": "code",
   "execution_count": 29,
   "id": "a639e341",
   "metadata": {},
   "outputs": [
    {
     "data": {
      "text/html": [
       "<div>\n",
       "<style scoped>\n",
       "    .dataframe tbody tr th:only-of-type {\n",
       "        vertical-align: middle;\n",
       "    }\n",
       "\n",
       "    .dataframe tbody tr th {\n",
       "        vertical-align: top;\n",
       "    }\n",
       "\n",
       "    .dataframe thead th {\n",
       "        text-align: right;\n",
       "    }\n",
       "</style>\n",
       "<table border=\"1\" class=\"dataframe\">\n",
       "  <thead>\n",
       "    <tr style=\"text-align: right;\">\n",
       "      <th></th>\n",
       "      <th>PCA1</th>\n",
       "      <th>PCA2</th>\n",
       "      <th>PCA3</th>\n",
       "      <th>PCA4</th>\n",
       "      <th>PCA5</th>\n",
       "      <th>PCA6</th>\n",
       "      <th>PCA7</th>\n",
       "      <th>PCA8</th>\n",
       "      <th>PCA9</th>\n",
       "      <th>PCA10</th>\n",
       "      <th>PCA11</th>\n",
       "    </tr>\n",
       "  </thead>\n",
       "  <tbody>\n",
       "    <tr>\n",
       "      <th>0</th>\n",
       "      <td>-0.209691</td>\n",
       "      <td>-0.808170</td>\n",
       "      <td>0.168907</td>\n",
       "      <td>-0.663340</td>\n",
       "      <td>-0.004221</td>\n",
       "      <td>-0.025304</td>\n",
       "      <td>0.002418</td>\n",
       "      <td>-0.012781</td>\n",
       "      <td>-0.046990</td>\n",
       "      <td>-0.021372</td>\n",
       "      <td>-0.007774</td>\n",
       "    </tr>\n",
       "    <tr>\n",
       "      <th>1</th>\n",
       "      <td>-0.187805</td>\n",
       "      <td>-0.810617</td>\n",
       "      <td>0.158472</td>\n",
       "      <td>-0.664012</td>\n",
       "      <td>-0.004872</td>\n",
       "      <td>-0.025161</td>\n",
       "      <td>0.002526</td>\n",
       "      <td>-0.013793</td>\n",
       "      <td>-0.047109</td>\n",
       "      <td>-0.021429</td>\n",
       "      <td>-0.007660</td>\n",
       "    </tr>\n",
       "    <tr>\n",
       "      <th>2</th>\n",
       "      <td>3.529267</td>\n",
       "      <td>-0.317246</td>\n",
       "      <td>2.910638</td>\n",
       "      <td>0.416936</td>\n",
       "      <td>-0.203725</td>\n",
       "      <td>-0.261915</td>\n",
       "      <td>-0.282133</td>\n",
       "      <td>-0.137953</td>\n",
       "      <td>0.753249</td>\n",
       "      <td>0.347229</td>\n",
       "      <td>-0.241091</td>\n",
       "    </tr>\n",
       "    <tr>\n",
       "      <th>3</th>\n",
       "      <td>-0.179927</td>\n",
       "      <td>0.699969</td>\n",
       "      <td>-0.165025</td>\n",
       "      <td>0.220439</td>\n",
       "      <td>-0.285466</td>\n",
       "      <td>-0.616501</td>\n",
       "      <td>0.622780</td>\n",
       "      <td>-0.016936</td>\n",
       "      <td>0.028175</td>\n",
       "      <td>0.008040</td>\n",
       "      <td>-0.026113</td>\n",
       "    </tr>\n",
       "    <tr>\n",
       "      <th>4</th>\n",
       "      <td>-0.173063</td>\n",
       "      <td>0.693041</td>\n",
       "      <td>-0.152954</td>\n",
       "      <td>0.115317</td>\n",
       "      <td>-0.215415</td>\n",
       "      <td>-0.104622</td>\n",
       "      <td>-0.242670</td>\n",
       "      <td>0.010629</td>\n",
       "      <td>0.111604</td>\n",
       "      <td>-0.125831</td>\n",
       "      <td>0.059776</td>\n",
       "    </tr>\n",
       "  </tbody>\n",
       "</table>\n",
       "</div>"
      ],
      "text/plain": [
       "       PCA1      PCA2      PCA3      PCA4      PCA5      PCA6      PCA7  \\\n",
       "0 -0.209691 -0.808170  0.168907 -0.663340 -0.004221 -0.025304  0.002418   \n",
       "1 -0.187805 -0.810617  0.158472 -0.664012 -0.004872 -0.025161  0.002526   \n",
       "2  3.529267 -0.317246  2.910638  0.416936 -0.203725 -0.261915 -0.282133   \n",
       "3 -0.179927  0.699969 -0.165025  0.220439 -0.285466 -0.616501  0.622780   \n",
       "4 -0.173063  0.693041 -0.152954  0.115317 -0.215415 -0.104622 -0.242670   \n",
       "\n",
       "       PCA8      PCA9     PCA10     PCA11  \n",
       "0 -0.012781 -0.046990 -0.021372 -0.007774  \n",
       "1 -0.013793 -0.047109 -0.021429 -0.007660  \n",
       "2 -0.137953  0.753249  0.347229 -0.241091  \n",
       "3 -0.016936  0.028175  0.008040 -0.026113  \n",
       "4  0.010629  0.111604 -0.125831  0.059776  "
      ]
     },
     "execution_count": 29,
     "metadata": {},
     "output_type": "execute_result"
    }
   ],
   "source": [
    "df_pca = pca.transform(df_sub3)\n",
    "df_pca = pd.DataFrame(df_pca, columns = [\"PCA\"+ str(x) for x in range(1, len(pca.explained_variance_ratio_) + 1)])\n",
    "df_pca.head()"
   ]
  },
  {
   "cell_type": "code",
   "execution_count": 30,
   "id": "ace74b22",
   "metadata": {},
   "outputs": [
    {
     "data": {
      "text/plain": [
       "(532, 2)"
      ]
     },
     "execution_count": 30,
     "metadata": {},
     "output_type": "execute_result"
    }
   ],
   "source": [
    "tsne = TSNE(learning_rate=35)\n",
    "# Reduce dimensions\n",
    "tsne_features = tsne.fit_transform(df_pca)\n",
    "tsne_features.shape"
   ]
  },
  {
   "cell_type": "code",
   "execution_count": 31,
   "id": "17ee67c5",
   "metadata": {},
   "outputs": [
    {
     "data": {
      "image/png": "[encoded data removed]",
      "text/plain": [
       "<Figure size 432x288 with 1 Axes>"
      ]
     },
     "metadata": {
      "needs_background": "light"
     },
     "output_type": "display_data"
    }
   ],
   "source": [
    "# Visualize the clusters\n",
    "plt.scatter(tsne_features[:,0], tsne_features[:,1])\n",
    "plt.show()"
   ]
  },
  {
   "cell_type": "markdown",
   "id": "d8cf2ed2",
   "metadata": {},
   "source": [
    "# running kmeans with PCA"
   ]
  },
  {
   "cell_type": "code",
   "execution_count": 32,
   "id": "8b4d129f",
   "metadata": {},
   "outputs": [],
   "source": [
    "from sklearn.cluster import KMeans"
   ]
  },
  {
   "cell_type": "code",
   "execution_count": 33,
   "id": "e5db4ba3",
   "metadata": {},
   "outputs": [
    {
     "data": {
      "image/png": "[encoded data removed]",
      "text/plain": [
       "<Figure size 432x288 with 1 Axes>"
      ]
     },
     "metadata": {
      "needs_background": "light"
     },
     "output_type": "display_data"
    }
   ],
   "source": [
    "# Finding the best value for k\n",
    "inertia = []\n",
    "k = list(range(1, 20))\n",
    "\n",
    "# Calculate the inertia for the range of k values\n",
    "for i in k:\n",
    "    km = KMeans(n_clusters=i, random_state=0)\n",
    "    km.fit(df_pca)\n",
    "    inertia.append(km.inertia_)\n",
    "\n",
    "# Creating the Elbow Curve\n",
    "elbow_data = {\"k\": k, \"inertia\": inertia}\n",
    "df_elbow = pd.DataFrame(elbow_data)\n",
    "\n",
    "plt.plot(df_elbow['k'], df_elbow['inertia'])\n",
    "plt.xticks(list(range(20)))\n",
    "plt.title('Elbow Curve')\n",
    "plt.xlabel('Number of clusters')\n",
    "plt.ylabel('Inertia')\n",
    "plt.show()"
   ]
  },
  {
   "cell_type": "code",
   "execution_count": 34,
   "id": "9c209919",
   "metadata": {},
   "outputs": [
    {
     "data": {
      "text/html": [
       "<div>\n",
       "<style scoped>\n",
       "    .dataframe tbody tr th:only-of-type {\n",
       "        vertical-align: middle;\n",
       "    }\n",
       "\n",
       "    .dataframe tbody tr th {\n",
       "        vertical-align: top;\n",
       "    }\n",
       "\n",
       "    .dataframe thead th {\n",
       "        text-align: right;\n",
       "    }\n",
       "</style>\n",
       "<table border=\"1\" class=\"dataframe\">\n",
       "  <thead>\n",
       "    <tr style=\"text-align: right;\">\n",
       "      <th></th>\n",
       "      <th>PCA1</th>\n",
       "      <th>PCA2</th>\n",
       "      <th>PCA3</th>\n",
       "      <th>PCA4</th>\n",
       "      <th>PCA5</th>\n",
       "      <th>PCA6</th>\n",
       "      <th>PCA7</th>\n",
       "      <th>PCA8</th>\n",
       "      <th>PCA9</th>\n",
       "      <th>PCA10</th>\n",
       "      <th>PCA11</th>\n",
       "      <th>class</th>\n",
       "    </tr>\n",
       "  </thead>\n",
       "  <tbody>\n",
       "    <tr>\n",
       "      <th>0</th>\n",
       "      <td>-0.209691</td>\n",
       "      <td>-0.808170</td>\n",
       "      <td>0.168907</td>\n",
       "      <td>-0.663340</td>\n",
       "      <td>-0.004221</td>\n",
       "      <td>-0.025304</td>\n",
       "      <td>0.002418</td>\n",
       "      <td>-0.012781</td>\n",
       "      <td>-0.046990</td>\n",
       "      <td>-0.021372</td>\n",
       "      <td>-0.007774</td>\n",
       "      <td>0</td>\n",
       "    </tr>\n",
       "    <tr>\n",
       "      <th>1</th>\n",
       "      <td>-0.187805</td>\n",
       "      <td>-0.810617</td>\n",
       "      <td>0.158472</td>\n",
       "      <td>-0.664012</td>\n",
       "      <td>-0.004872</td>\n",
       "      <td>-0.025161</td>\n",
       "      <td>0.002526</td>\n",
       "      <td>-0.013793</td>\n",
       "      <td>-0.047109</td>\n",
       "      <td>-0.021429</td>\n",
       "      <td>-0.007660</td>\n",
       "      <td>0</td>\n",
       "    </tr>\n",
       "    <tr>\n",
       "      <th>2</th>\n",
       "      <td>3.529267</td>\n",
       "      <td>-0.317246</td>\n",
       "      <td>2.910638</td>\n",
       "      <td>0.416936</td>\n",
       "      <td>-0.203725</td>\n",
       "      <td>-0.261915</td>\n",
       "      <td>-0.282133</td>\n",
       "      <td>-0.137953</td>\n",
       "      <td>0.753249</td>\n",
       "      <td>0.347229</td>\n",
       "      <td>-0.241091</td>\n",
       "      <td>2</td>\n",
       "    </tr>\n",
       "    <tr>\n",
       "      <th>3</th>\n",
       "      <td>-0.179927</td>\n",
       "      <td>0.699969</td>\n",
       "      <td>-0.165025</td>\n",
       "      <td>0.220439</td>\n",
       "      <td>-0.285466</td>\n",
       "      <td>-0.616501</td>\n",
       "      <td>0.622780</td>\n",
       "      <td>-0.016936</td>\n",
       "      <td>0.028175</td>\n",
       "      <td>0.008040</td>\n",
       "      <td>-0.026113</td>\n",
       "      <td>5</td>\n",
       "    </tr>\n",
       "    <tr>\n",
       "      <th>4</th>\n",
       "      <td>-0.173063</td>\n",
       "      <td>0.693041</td>\n",
       "      <td>-0.152954</td>\n",
       "      <td>0.115317</td>\n",
       "      <td>-0.215415</td>\n",
       "      <td>-0.104622</td>\n",
       "      <td>-0.242670</td>\n",
       "      <td>0.010629</td>\n",
       "      <td>0.111604</td>\n",
       "      <td>-0.125831</td>\n",
       "      <td>0.059776</td>\n",
       "      <td>5</td>\n",
       "    </tr>\n",
       "  </tbody>\n",
       "</table>\n",
       "</div>"
      ],
      "text/plain": [
       "       PCA1      PCA2      PCA3      PCA4      PCA5      PCA6      PCA7  \\\n",
       "0 -0.209691 -0.808170  0.168907 -0.663340 -0.004221 -0.025304  0.002418   \n",
       "1 -0.187805 -0.810617  0.158472 -0.664012 -0.004872 -0.025161  0.002526   \n",
       "2  3.529267 -0.317246  2.910638  0.416936 -0.203725 -0.261915 -0.282133   \n",
       "3 -0.179927  0.699969 -0.165025  0.220439 -0.285466 -0.616501  0.622780   \n",
       "4 -0.173063  0.693041 -0.152954  0.115317 -0.215415 -0.104622 -0.242670   \n",
       "\n",
       "       PCA8      PCA9     PCA10     PCA11  class  \n",
       "0 -0.012781 -0.046990 -0.021372 -0.007774      0  \n",
       "1 -0.013793 -0.047109 -0.021429 -0.007660      0  \n",
       "2 -0.137953  0.753249  0.347229 -0.241091      2  \n",
       "3 -0.016936  0.028175  0.008040 -0.026113      5  \n",
       "4  0.010629  0.111604 -0.125831  0.059776      5  "
      ]
     },
     "execution_count": 34,
     "metadata": {},
     "output_type": "execute_result"
    }
   ],
   "source": [
    "# Predicting clusters with k=6\n",
    "\n",
    "# Initialize the k-means model\n",
    "model = KMeans(n_clusters=6, random_state=0)\n",
    "\n",
    "# Fit the model\n",
    "model.fit(df_pca)\n",
    "\n",
    "# Predict clusters\n",
    "predictions = model.predict(df_pca)\n",
    "\n",
    "# Add the predicted class column to the dataframe\n",
    "df_pca[\"class\"] = model.labels_\n",
    "df_pca.head()"
   ]
  },
  {
   "cell_type": "code",
   "execution_count": 35,
   "id": "afad6902",
   "metadata": {},
   "outputs": [
    {
     "data": {
      "image/png": "[encoded data removed]",
      "text/plain": [
       "<Figure size 432x288 with 1 Axes>"
      ]
     },
     "metadata": {
      "needs_background": "light"
     },
     "output_type": "display_data"
    }
   ],
   "source": [
    "# Visualize the clusters\n",
    "plt.scatter(tsne_features[:,0], tsne_features[:,1], c=df_pca[\"class\"])\n",
    "plt.show()"
   ]
  },
  {
   "cell_type": "code",
   "execution_count": 36,
   "id": "2a74d6eb",
   "metadata": {},
   "outputs": [
    {
     "data": {
      "text/plain": [
       "5    229\n",
       "0    182\n",
       "3    109\n",
       "2     10\n",
       "1      1\n",
       "4      1\n",
       "Name: class, dtype: int64"
      ]
     },
     "execution_count": 36,
     "metadata": {},
     "output_type": "execute_result"
    }
   ],
   "source": [
    "df_pca[\"class\"].value_counts()"
   ]
  },
  {
   "cell_type": "code",
   "execution_count": 37,
   "id": "3f196809",
   "metadata": {},
   "outputs": [
    {
     "data": {
      "text/html": [
       "<div>\n",
       "<style scoped>\n",
       "    .dataframe tbody tr th:only-of-type {\n",
       "        vertical-align: middle;\n",
       "    }\n",
       "\n",
       "    .dataframe tbody tr th {\n",
       "        vertical-align: top;\n",
       "    }\n",
       "\n",
       "    .dataframe thead th {\n",
       "        text-align: right;\n",
       "    }\n",
       "</style>\n",
       "<table border=\"1\" class=\"dataframe\">\n",
       "  <thead>\n",
       "    <tr style=\"text-align: right;\">\n",
       "      <th></th>\n",
       "      <th>Algorithm</th>\n",
       "      <th>ProofType</th>\n",
       "      <th>TotalCoinsMined</th>\n",
       "      <th>TotalCoinSupply</th>\n",
       "    </tr>\n",
       "  </thead>\n",
       "  <tbody>\n",
       "    <tr>\n",
       "      <th>0</th>\n",
       "      <td>Scrypt</td>\n",
       "      <td>PoW/PoS</td>\n",
       "      <td>4.199995e+01</td>\n",
       "      <td>4.200000e+01</td>\n",
       "    </tr>\n",
       "    <tr>\n",
       "      <th>1</th>\n",
       "      <td>Scrypt</td>\n",
       "      <td>PoW/PoS</td>\n",
       "      <td>1.055185e+09</td>\n",
       "      <td>5.320000e+08</td>\n",
       "    </tr>\n",
       "    <tr>\n",
       "      <th>2</th>\n",
       "      <td>X13</td>\n",
       "      <td>PoW/PoS</td>\n",
       "      <td>2.927942e+10</td>\n",
       "      <td>3.141593e+11</td>\n",
       "    </tr>\n",
       "    <tr>\n",
       "      <th>3</th>\n",
       "      <td>SHA-256</td>\n",
       "      <td>PoW</td>\n",
       "      <td>1.792718e+07</td>\n",
       "      <td>2.100000e+07</td>\n",
       "    </tr>\n",
       "    <tr>\n",
       "      <th>4</th>\n",
       "      <td>Ethash</td>\n",
       "      <td>PoW</td>\n",
       "      <td>1.076842e+08</td>\n",
       "      <td>0.000000e+00</td>\n",
       "    </tr>\n",
       "  </tbody>\n",
       "</table>\n",
       "</div>"
      ],
      "text/plain": [
       "  Algorithm ProofType  TotalCoinsMined  TotalCoinSupply\n",
       "0    Scrypt   PoW/PoS     4.199995e+01     4.200000e+01\n",
       "1    Scrypt   PoW/PoS     1.055185e+09     5.320000e+08\n",
       "2       X13   PoW/PoS     2.927942e+10     3.141593e+11\n",
       "3   SHA-256       PoW     1.792718e+07     2.100000e+07\n",
       "4    Ethash       PoW     1.076842e+08     0.000000e+00"
      ]
     },
     "execution_count": 37,
     "metadata": {},
     "output_type": "execute_result"
    }
   ],
   "source": [
    "df_sub.head()"
   ]
  },
  {
   "cell_type": "code",
   "execution_count": 38,
   "id": "24fea7bd",
   "metadata": {},
   "outputs": [],
   "source": [
    "classes = df_pca[\"class\"]\n",
    "df_pca[\"coin\"] = coin_sub"
   ]
  },
  {
   "cell_type": "code",
   "execution_count": 39,
   "id": "0ec7c259",
   "metadata": {},
   "outputs": [
    {
     "data": {
      "text/html": [
       "<div>\n",
       "<style scoped>\n",
       "    .dataframe tbody tr th:only-of-type {\n",
       "        vertical-align: middle;\n",
       "    }\n",
       "\n",
       "    .dataframe tbody tr th {\n",
       "        vertical-align: top;\n",
       "    }\n",
       "\n",
       "    .dataframe thead th {\n",
       "        text-align: right;\n",
       "    }\n",
       "</style>\n",
       "<table border=\"1\" class=\"dataframe\">\n",
       "  <thead>\n",
       "    <tr style=\"text-align: right;\">\n",
       "      <th></th>\n",
       "      <th>Algorithm</th>\n",
       "      <th>ProofType</th>\n",
       "      <th>TotalCoinsMined</th>\n",
       "      <th>TotalCoinSupply</th>\n",
       "      <th>coin</th>\n",
       "      <th>class</th>\n",
       "    </tr>\n",
       "  </thead>\n",
       "  <tbody>\n",
       "    <tr>\n",
       "      <th>0</th>\n",
       "      <td>Scrypt</td>\n",
       "      <td>PoW/PoS</td>\n",
       "      <td>4.199995e+01</td>\n",
       "      <td>4.200000e+01</td>\n",
       "      <td>42 Coin</td>\n",
       "      <td>0</td>\n",
       "    </tr>\n",
       "    <tr>\n",
       "      <th>1</th>\n",
       "      <td>Scrypt</td>\n",
       "      <td>PoW/PoS</td>\n",
       "      <td>1.055185e+09</td>\n",
       "      <td>5.320000e+08</td>\n",
       "      <td>404Coin</td>\n",
       "      <td>0</td>\n",
       "    </tr>\n",
       "    <tr>\n",
       "      <th>2</th>\n",
       "      <td>X13</td>\n",
       "      <td>PoW/PoS</td>\n",
       "      <td>2.927942e+10</td>\n",
       "      <td>3.141593e+11</td>\n",
       "      <td>EliteCoin</td>\n",
       "      <td>2</td>\n",
       "    </tr>\n",
       "    <tr>\n",
       "      <th>3</th>\n",
       "      <td>SHA-256</td>\n",
       "      <td>PoW</td>\n",
       "      <td>1.792718e+07</td>\n",
       "      <td>2.100000e+07</td>\n",
       "      <td>Bitcoin</td>\n",
       "      <td>5</td>\n",
       "    </tr>\n",
       "    <tr>\n",
       "      <th>4</th>\n",
       "      <td>Ethash</td>\n",
       "      <td>PoW</td>\n",
       "      <td>1.076842e+08</td>\n",
       "      <td>0.000000e+00</td>\n",
       "      <td>Ethereum</td>\n",
       "      <td>5</td>\n",
       "    </tr>\n",
       "  </tbody>\n",
       "</table>\n",
       "</div>"
      ],
      "text/plain": [
       "  Algorithm ProofType  TotalCoinsMined  TotalCoinSupply       coin  class\n",
       "0    Scrypt   PoW/PoS     4.199995e+01     4.200000e+01    42 Coin      0\n",
       "1    Scrypt   PoW/PoS     1.055185e+09     5.320000e+08    404Coin      0\n",
       "2       X13   PoW/PoS     2.927942e+10     3.141593e+11  EliteCoin      2\n",
       "3   SHA-256       PoW     1.792718e+07     2.100000e+07    Bitcoin      5\n",
       "4    Ethash       PoW     1.076842e+08     0.000000e+00   Ethereum      5"
      ]
     },
     "execution_count": 39,
     "metadata": {},
     "output_type": "execute_result"
    }
   ],
   "source": [
    "preds = df_sub.copy()\n",
    "preds[\"coin\"] = coin_sub\n",
    "preds[\"class\"] = classes\n",
    "\n",
    "preds.head()"
   ]
  },
  {
   "cell_type": "code",
   "execution_count": 40,
   "id": "4100b55c",
   "metadata": {},
   "outputs": [
    {
     "data": {
      "text/html": [
       "<div>\n",
       "<style scoped>\n",
       "    .dataframe tbody tr th:only-of-type {\n",
       "        vertical-align: middle;\n",
       "    }\n",
       "\n",
       "    .dataframe tbody tr th {\n",
       "        vertical-align: top;\n",
       "    }\n",
       "\n",
       "    .dataframe thead th {\n",
       "        text-align: right;\n",
       "    }\n",
       "</style>\n",
       "<table border=\"1\" class=\"dataframe\">\n",
       "  <thead>\n",
       "    <tr style=\"text-align: right;\">\n",
       "      <th></th>\n",
       "      <th>TotalCoinsMined</th>\n",
       "      <th>TotalCoinSupply</th>\n",
       "    </tr>\n",
       "    <tr>\n",
       "      <th>class</th>\n",
       "      <th></th>\n",
       "      <th></th>\n",
       "    </tr>\n",
       "  </thead>\n",
       "  <tbody>\n",
       "    <tr>\n",
       "      <th>0</th>\n",
       "      <td>2.492499e+09</td>\n",
       "      <td>3.204951e+09</td>\n",
       "    </tr>\n",
       "    <tr>\n",
       "      <th>1</th>\n",
       "      <td>9.899887e+11</td>\n",
       "      <td>9.900000e+11</td>\n",
       "    </tr>\n",
       "    <tr>\n",
       "      <th>2</th>\n",
       "      <td>8.841782e+10</td>\n",
       "      <td>1.720409e+11</td>\n",
       "    </tr>\n",
       "    <tr>\n",
       "      <th>3</th>\n",
       "      <td>1.649582e+09</td>\n",
       "      <td>3.587962e+09</td>\n",
       "    </tr>\n",
       "    <tr>\n",
       "      <th>4</th>\n",
       "      <td>5.313984e+10</td>\n",
       "      <td>1.000000e+12</td>\n",
       "    </tr>\n",
       "    <tr>\n",
       "      <th>5</th>\n",
       "      <td>1.224351e+09</td>\n",
       "      <td>3.575834e+09</td>\n",
       "    </tr>\n",
       "  </tbody>\n",
       "</table>\n",
       "</div>"
      ],
      "text/plain": [
       "       TotalCoinsMined  TotalCoinSupply\n",
       "class                                  \n",
       "0         2.492499e+09     3.204951e+09\n",
       "1         9.899887e+11     9.900000e+11\n",
       "2         8.841782e+10     1.720409e+11\n",
       "3         1.649582e+09     3.587962e+09\n",
       "4         5.313984e+10     1.000000e+12\n",
       "5         1.224351e+09     3.575834e+09"
      ]
     },
     "execution_count": 40,
     "metadata": {},
     "output_type": "execute_result"
    }
   ],
   "source": [
    "preds.groupby(\"class\").mean()"
   ]
  },
  {
   "cell_type": "code",
   "execution_count": 41,
   "id": "2e48b813",
   "metadata": {},
   "outputs": [
    {
     "data": {
      "text/html": [
       "<div>\n",
       "<style scoped>\n",
       "    .dataframe tbody tr th:only-of-type {\n",
       "        vertical-align: middle;\n",
       "    }\n",
       "\n",
       "    .dataframe tbody tr th {\n",
       "        vertical-align: top;\n",
       "    }\n",
       "\n",
       "    .dataframe thead th {\n",
       "        text-align: right;\n",
       "    }\n",
       "</style>\n",
       "<table border=\"1\" class=\"dataframe\">\n",
       "  <thead>\n",
       "    <tr style=\"text-align: right;\">\n",
       "      <th></th>\n",
       "      <th>Algorithm</th>\n",
       "      <th>ProofType</th>\n",
       "      <th>TotalCoinsMined</th>\n",
       "      <th>TotalCoinSupply</th>\n",
       "      <th>coin</th>\n",
       "    </tr>\n",
       "    <tr>\n",
       "      <th>class</th>\n",
       "      <th></th>\n",
       "      <th></th>\n",
       "      <th></th>\n",
       "      <th></th>\n",
       "      <th></th>\n",
       "    </tr>\n",
       "  </thead>\n",
       "  <tbody>\n",
       "    <tr>\n",
       "      <th>0</th>\n",
       "      <td>182</td>\n",
       "      <td>182</td>\n",
       "      <td>182</td>\n",
       "      <td>182</td>\n",
       "      <td>182</td>\n",
       "    </tr>\n",
       "    <tr>\n",
       "      <th>1</th>\n",
       "      <td>1</td>\n",
       "      <td>1</td>\n",
       "      <td>1</td>\n",
       "      <td>1</td>\n",
       "      <td>1</td>\n",
       "    </tr>\n",
       "    <tr>\n",
       "      <th>2</th>\n",
       "      <td>10</td>\n",
       "      <td>10</td>\n",
       "      <td>10</td>\n",
       "      <td>10</td>\n",
       "      <td>10</td>\n",
       "    </tr>\n",
       "    <tr>\n",
       "      <th>3</th>\n",
       "      <td>109</td>\n",
       "      <td>109</td>\n",
       "      <td>109</td>\n",
       "      <td>109</td>\n",
       "      <td>109</td>\n",
       "    </tr>\n",
       "    <tr>\n",
       "      <th>4</th>\n",
       "      <td>1</td>\n",
       "      <td>1</td>\n",
       "      <td>1</td>\n",
       "      <td>1</td>\n",
       "      <td>1</td>\n",
       "    </tr>\n",
       "    <tr>\n",
       "      <th>5</th>\n",
       "      <td>229</td>\n",
       "      <td>229</td>\n",
       "      <td>229</td>\n",
       "      <td>229</td>\n",
       "      <td>229</td>\n",
       "    </tr>\n",
       "  </tbody>\n",
       "</table>\n",
       "</div>"
      ],
      "text/plain": [
       "       Algorithm  ProofType  TotalCoinsMined  TotalCoinSupply  coin\n",
       "class                                                              \n",
       "0            182        182              182              182   182\n",
       "1              1          1                1                1     1\n",
       "2             10         10               10               10    10\n",
       "3            109        109              109              109   109\n",
       "4              1          1                1                1     1\n",
       "5            229        229              229              229   229"
      ]
     },
     "execution_count": 41,
     "metadata": {},
     "output_type": "execute_result"
    }
   ],
   "source": [
    "preds.groupby(\"class\").count()"
   ]
  },
  {
   "cell_type": "code",
   "execution_count": 42,
   "id": "8277b306",
   "metadata": {},
   "outputs": [
    {
     "data": {
      "text/html": [
       "<div>\n",
       "<style scoped>\n",
       "    .dataframe tbody tr th:only-of-type {\n",
       "        vertical-align: middle;\n",
       "    }\n",
       "\n",
       "    .dataframe tbody tr th {\n",
       "        vertical-align: top;\n",
       "    }\n",
       "\n",
       "    .dataframe thead th {\n",
       "        text-align: right;\n",
       "    }\n",
       "</style>\n",
       "<table border=\"1\" class=\"dataframe\">\n",
       "  <thead>\n",
       "    <tr style=\"text-align: right;\">\n",
       "      <th></th>\n",
       "      <th>Algorithm</th>\n",
       "      <th>ProofType</th>\n",
       "      <th>TotalCoinsMined</th>\n",
       "      <th>TotalCoinSupply</th>\n",
       "      <th>coin</th>\n",
       "      <th>class</th>\n",
       "    </tr>\n",
       "  </thead>\n",
       "  <tbody>\n",
       "    <tr>\n",
       "      <th>525</th>\n",
       "      <td>TRC10</td>\n",
       "      <td>DPoS</td>\n",
       "      <td>9.899887e+11</td>\n",
       "      <td>9.900000e+11</td>\n",
       "      <td>BitTorrent</td>\n",
       "      <td>1</td>\n",
       "    </tr>\n",
       "  </tbody>\n",
       "</table>\n",
       "</div>"
      ],
      "text/plain": [
       "    Algorithm ProofType  TotalCoinsMined  TotalCoinSupply        coin  class\n",
       "525     TRC10      DPoS     9.899887e+11     9.900000e+11  BitTorrent      1"
      ]
     },
     "execution_count": 42,
     "metadata": {},
     "output_type": "execute_result"
    }
   ],
   "source": [
    "preds.loc[preds[\"class\"] == 1]"
   ]
  },
  {
   "cell_type": "code",
   "execution_count": 43,
   "id": "b5711a9e",
   "metadata": {},
   "outputs": [
    {
     "data": {
      "text/html": [
       "<div>\n",
       "<style scoped>\n",
       "    .dataframe tbody tr th:only-of-type {\n",
       "        vertical-align: middle;\n",
       "    }\n",
       "\n",
       "    .dataframe tbody tr th {\n",
       "        vertical-align: top;\n",
       "    }\n",
       "\n",
       "    .dataframe thead th {\n",
       "        text-align: right;\n",
       "    }\n",
       "</style>\n",
       "<table border=\"1\" class=\"dataframe\">\n",
       "  <thead>\n",
       "    <tr style=\"text-align: right;\">\n",
       "      <th></th>\n",
       "      <th>Algorithm</th>\n",
       "      <th>ProofType</th>\n",
       "      <th>TotalCoinsMined</th>\n",
       "      <th>TotalCoinSupply</th>\n",
       "      <th>coin</th>\n",
       "      <th>class</th>\n",
       "    </tr>\n",
       "  </thead>\n",
       "  <tbody>\n",
       "    <tr>\n",
       "      <th>370</th>\n",
       "      <td>CryptoNight</td>\n",
       "      <td>PoW</td>\n",
       "      <td>5.313984e+10</td>\n",
       "      <td>1.000000e+12</td>\n",
       "      <td>TurtleCoin</td>\n",
       "      <td>4</td>\n",
       "    </tr>\n",
       "  </tbody>\n",
       "</table>\n",
       "</div>"
      ],
      "text/plain": [
       "       Algorithm ProofType  TotalCoinsMined  TotalCoinSupply        coin  \\\n",
       "370  CryptoNight       PoW     5.313984e+10     1.000000e+12  TurtleCoin   \n",
       "\n",
       "     class  \n",
       "370      4  "
      ]
     },
     "execution_count": 43,
     "metadata": {},
     "output_type": "execute_result"
    }
   ],
   "source": [
    "preds.loc[preds[\"class\"] == 4]"
   ]
  },
  {
   "cell_type": "code",
   "execution_count": 44,
   "id": "052432c5",
   "metadata": {},
   "outputs": [
    {
     "data": {
      "text/html": [
       "<div>\n",
       "<style scoped>\n",
       "    .dataframe tbody tr th:only-of-type {\n",
       "        vertical-align: middle;\n",
       "    }\n",
       "\n",
       "    .dataframe tbody tr th {\n",
       "        vertical-align: top;\n",
       "    }\n",
       "\n",
       "    .dataframe thead th {\n",
       "        text-align: right;\n",
       "    }\n",
       "</style>\n",
       "<table border=\"1\" class=\"dataframe\">\n",
       "  <thead>\n",
       "    <tr style=\"text-align: right;\">\n",
       "      <th></th>\n",
       "      <th>Algorithm</th>\n",
       "      <th>ProofType</th>\n",
       "      <th>TotalCoinsMined</th>\n",
       "      <th>TotalCoinSupply</th>\n",
       "      <th>coin</th>\n",
       "      <th>class</th>\n",
       "    </tr>\n",
       "  </thead>\n",
       "  <tbody>\n",
       "    <tr>\n",
       "      <th>525</th>\n",
       "      <td>TRC10</td>\n",
       "      <td>DPoS</td>\n",
       "      <td>9.899887e+11</td>\n",
       "      <td>9.900000e+11</td>\n",
       "      <td>BitTorrent</td>\n",
       "      <td>1</td>\n",
       "    </tr>\n",
       "    <tr>\n",
       "      <th>98</th>\n",
       "      <td>CryptoNight</td>\n",
       "      <td>PoW</td>\n",
       "      <td>1.840668e+11</td>\n",
       "      <td>1.844674e+11</td>\n",
       "      <td>ByteCoin</td>\n",
       "      <td>2</td>\n",
       "    </tr>\n",
       "    <tr>\n",
       "      <th>294</th>\n",
       "      <td>Scrypt</td>\n",
       "      <td>PoW</td>\n",
       "      <td>1.630551e+11</td>\n",
       "      <td>2.000000e+11</td>\n",
       "      <td>gCn Coin</td>\n",
       "      <td>2</td>\n",
       "    </tr>\n",
       "    <tr>\n",
       "      <th>305</th>\n",
       "      <td>Scrypt</td>\n",
       "      <td>PoW</td>\n",
       "      <td>1.430067e+11</td>\n",
       "      <td>0.000000e+00</td>\n",
       "      <td>NewYorkCoin</td>\n",
       "      <td>2</td>\n",
       "    </tr>\n",
       "    <tr>\n",
       "      <th>443</th>\n",
       "      <td>CryptoNight Heavy</td>\n",
       "      <td>PoW</td>\n",
       "      <td>9.955311e+10</td>\n",
       "      <td>1.844700e+11</td>\n",
       "      <td>Qwertycoin</td>\n",
       "      <td>2</td>\n",
       "    </tr>\n",
       "    <tr>\n",
       "      <th>...</th>\n",
       "      <td>...</td>\n",
       "      <td>...</td>\n",
       "      <td>...</td>\n",
       "      <td>...</td>\n",
       "      <td>...</td>\n",
       "      <td>...</td>\n",
       "    </tr>\n",
       "    <tr>\n",
       "      <th>415</th>\n",
       "      <td>CryptoNight</td>\n",
       "      <td>PoW</td>\n",
       "      <td>8.430000e+04</td>\n",
       "      <td>6.000005e+08</td>\n",
       "      <td>PlatinCoin</td>\n",
       "      <td>5</td>\n",
       "    </tr>\n",
       "    <tr>\n",
       "      <th>29</th>\n",
       "      <td>Scrypt</td>\n",
       "      <td>PoW/PoS</td>\n",
       "      <td>4.257948e+04</td>\n",
       "      <td>5.000000e+05</td>\n",
       "      <td>BitBar</td>\n",
       "      <td>0</td>\n",
       "    </tr>\n",
       "    <tr>\n",
       "      <th>77</th>\n",
       "      <td>X11</td>\n",
       "      <td>PoW/PoS</td>\n",
       "      <td>1.177000e+03</td>\n",
       "      <td>1.000000e+03</td>\n",
       "      <td>SyncCoin</td>\n",
       "      <td>0</td>\n",
       "    </tr>\n",
       "    <tr>\n",
       "      <th>21</th>\n",
       "      <td>Scrypt</td>\n",
       "      <td>PoW</td>\n",
       "      <td>8.800000e+01</td>\n",
       "      <td>3.840000e+11</td>\n",
       "      <td>MoonCoin</td>\n",
       "      <td>2</td>\n",
       "    </tr>\n",
       "    <tr>\n",
       "      <th>0</th>\n",
       "      <td>Scrypt</td>\n",
       "      <td>PoW/PoS</td>\n",
       "      <td>4.199995e+01</td>\n",
       "      <td>4.200000e+01</td>\n",
       "      <td>42 Coin</td>\n",
       "      <td>0</td>\n",
       "    </tr>\n",
       "  </tbody>\n",
       "</table>\n",
       "<p>532 rows × 6 columns</p>\n",
       "</div>"
      ],
      "text/plain": [
       "             Algorithm ProofType  TotalCoinsMined  TotalCoinSupply  \\\n",
       "525              TRC10      DPoS     9.899887e+11     9.900000e+11   \n",
       "98         CryptoNight       PoW     1.840668e+11     1.844674e+11   \n",
       "294             Scrypt       PoW     1.630551e+11     2.000000e+11   \n",
       "305             Scrypt       PoW     1.430067e+11     0.000000e+00   \n",
       "443  CryptoNight Heavy       PoW     9.955311e+10     1.844700e+11   \n",
       "..                 ...       ...              ...              ...   \n",
       "415        CryptoNight       PoW     8.430000e+04     6.000005e+08   \n",
       "29              Scrypt   PoW/PoS     4.257948e+04     5.000000e+05   \n",
       "77                 X11   PoW/PoS     1.177000e+03     1.000000e+03   \n",
       "21              Scrypt       PoW     8.800000e+01     3.840000e+11   \n",
       "0               Scrypt   PoW/PoS     4.199995e+01     4.200000e+01   \n",
       "\n",
       "            coin  class  \n",
       "525   BitTorrent      1  \n",
       "98      ByteCoin      2  \n",
       "294     gCn Coin      2  \n",
       "305  NewYorkCoin      2  \n",
       "443   Qwertycoin      2  \n",
       "..           ...    ...  \n",
       "415   PlatinCoin      5  \n",
       "29        BitBar      0  \n",
       "77      SyncCoin      0  \n",
       "21      MoonCoin      2  \n",
       "0        42 Coin      0  \n",
       "\n",
       "[532 rows x 6 columns]"
      ]
     },
     "execution_count": 44,
     "metadata": {},
     "output_type": "execute_result"
    }
   ],
   "source": [
    "preds.sort_values(by=\"TotalCoinsMined\", ascending=False)"
   ]
  },
  {
   "cell_type": "code",
   "execution_count": 45,
   "id": "9e887ad2",
   "metadata": {},
   "outputs": [
    {
     "data": {
      "text/html": [
       "<div>\n",
       "<style scoped>\n",
       "    .dataframe tbody tr th:only-of-type {\n",
       "        vertical-align: middle;\n",
       "    }\n",
       "\n",
       "    .dataframe tbody tr th {\n",
       "        vertical-align: top;\n",
       "    }\n",
       "\n",
       "    .dataframe thead th {\n",
       "        text-align: right;\n",
       "    }\n",
       "</style>\n",
       "<table border=\"1\" class=\"dataframe\">\n",
       "  <thead>\n",
       "    <tr style=\"text-align: right;\">\n",
       "      <th></th>\n",
       "      <th>Algorithm</th>\n",
       "      <th>ProofType</th>\n",
       "      <th>TotalCoinsMined</th>\n",
       "      <th>TotalCoinSupply</th>\n",
       "      <th>coin</th>\n",
       "      <th>class</th>\n",
       "    </tr>\n",
       "  </thead>\n",
       "  <tbody>\n",
       "    <tr>\n",
       "      <th>3</th>\n",
       "      <td>SHA-256</td>\n",
       "      <td>PoW</td>\n",
       "      <td>1.792718e+07</td>\n",
       "      <td>2.100000e+07</td>\n",
       "      <td>Bitcoin</td>\n",
       "      <td>5</td>\n",
       "    </tr>\n",
       "    <tr>\n",
       "      <th>4</th>\n",
       "      <td>Ethash</td>\n",
       "      <td>PoW</td>\n",
       "      <td>1.076842e+08</td>\n",
       "      <td>0.000000e+00</td>\n",
       "      <td>Ethereum</td>\n",
       "      <td>5</td>\n",
       "    </tr>\n",
       "    <tr>\n",
       "      <th>5</th>\n",
       "      <td>Scrypt</td>\n",
       "      <td>PoW</td>\n",
       "      <td>6.303924e+07</td>\n",
       "      <td>8.400000e+07</td>\n",
       "      <td>Litecoin</td>\n",
       "      <td>5</td>\n",
       "    </tr>\n",
       "    <tr>\n",
       "      <th>7</th>\n",
       "      <td>CryptoNight-V7</td>\n",
       "      <td>PoW</td>\n",
       "      <td>1.720114e+07</td>\n",
       "      <td>0.000000e+00</td>\n",
       "      <td>Monero</td>\n",
       "      <td>5</td>\n",
       "    </tr>\n",
       "    <tr>\n",
       "      <th>8</th>\n",
       "      <td>Ethash</td>\n",
       "      <td>PoW</td>\n",
       "      <td>1.133597e+08</td>\n",
       "      <td>2.100000e+08</td>\n",
       "      <td>Ethereum Classic</td>\n",
       "      <td>5</td>\n",
       "    </tr>\n",
       "    <tr>\n",
       "      <th>9</th>\n",
       "      <td>Equihash</td>\n",
       "      <td>PoW</td>\n",
       "      <td>7.383056e+06</td>\n",
       "      <td>2.100000e+07</td>\n",
       "      <td>ZCash</td>\n",
       "      <td>5</td>\n",
       "    </tr>\n",
       "    <tr>\n",
       "      <th>11</th>\n",
       "      <td>Multiple</td>\n",
       "      <td>PoW</td>\n",
       "      <td>1.140622e+10</td>\n",
       "      <td>2.100000e+10</td>\n",
       "      <td>DigiByte</td>\n",
       "      <td>5</td>\n",
       "    </tr>\n",
       "    <tr>\n",
       "      <th>14</th>\n",
       "      <td>Scrypt</td>\n",
       "      <td>PoW</td>\n",
       "      <td>5.768310e+06</td>\n",
       "      <td>2.100000e+07</td>\n",
       "      <td>ProsperCoin</td>\n",
       "      <td>5</td>\n",
       "    </tr>\n",
       "    <tr>\n",
       "      <th>16</th>\n",
       "      <td>X11</td>\n",
       "      <td>PoW</td>\n",
       "      <td>1.114973e+07</td>\n",
       "      <td>2.000000e+07</td>\n",
       "      <td>Spreadcoin</td>\n",
       "      <td>5</td>\n",
       "    </tr>\n",
       "    <tr>\n",
       "      <th>17</th>\n",
       "      <td>Scrypt</td>\n",
       "      <td>PoW</td>\n",
       "      <td>1.220580e+07</td>\n",
       "      <td>6.400000e+07</td>\n",
       "      <td>Argentum</td>\n",
       "      <td>5</td>\n",
       "    </tr>\n",
       "  </tbody>\n",
       "</table>\n",
       "</div>"
      ],
      "text/plain": [
       "         Algorithm ProofType  TotalCoinsMined  TotalCoinSupply  \\\n",
       "3          SHA-256       PoW     1.792718e+07     2.100000e+07   \n",
       "4           Ethash       PoW     1.076842e+08     0.000000e+00   \n",
       "5           Scrypt       PoW     6.303924e+07     8.400000e+07   \n",
       "7   CryptoNight-V7       PoW     1.720114e+07     0.000000e+00   \n",
       "8           Ethash       PoW     1.133597e+08     2.100000e+08   \n",
       "9         Equihash       PoW     7.383056e+06     2.100000e+07   \n",
       "11        Multiple       PoW     1.140622e+10     2.100000e+10   \n",
       "14          Scrypt       PoW     5.768310e+06     2.100000e+07   \n",
       "16             X11       PoW     1.114973e+07     2.000000e+07   \n",
       "17          Scrypt       PoW     1.220580e+07     6.400000e+07   \n",
       "\n",
       "                coin  class  \n",
       "3            Bitcoin      5  \n",
       "4           Ethereum      5  \n",
       "5           Litecoin      5  \n",
       "7             Monero      5  \n",
       "8   Ethereum Classic      5  \n",
       "9              ZCash      5  \n",
       "11          DigiByte      5  \n",
       "14       ProsperCoin      5  \n",
       "16        Spreadcoin      5  \n",
       "17          Argentum      5  "
      ]
     },
     "execution_count": 45,
     "metadata": {},
     "output_type": "execute_result"
    }
   ],
   "source": [
    "preds.loc[preds[\"class\"] == 5].head(10)"
   ]
  },
  {
   "cell_type": "code",
   "execution_count": 46,
   "id": "ab2443db",
   "metadata": {},
   "outputs": [
    {
     "data": {
      "text/html": [
       "<div>\n",
       "<style scoped>\n",
       "    .dataframe tbody tr th:only-of-type {\n",
       "        vertical-align: middle;\n",
       "    }\n",
       "\n",
       "    .dataframe tbody tr th {\n",
       "        vertical-align: top;\n",
       "    }\n",
       "\n",
       "    .dataframe thead th {\n",
       "        text-align: right;\n",
       "    }\n",
       "</style>\n",
       "<table border=\"1\" class=\"dataframe\">\n",
       "  <thead>\n",
       "    <tr style=\"text-align: right;\">\n",
       "      <th></th>\n",
       "      <th>Algorithm</th>\n",
       "      <th>ProofType</th>\n",
       "      <th>TotalCoinsMined</th>\n",
       "      <th>TotalCoinSupply</th>\n",
       "      <th>coin</th>\n",
       "      <th>class</th>\n",
       "    </tr>\n",
       "  </thead>\n",
       "  <tbody>\n",
       "    <tr>\n",
       "      <th>278</th>\n",
       "      <td>Blake2b</td>\n",
       "      <td>PoW</td>\n",
       "      <td>133248297.0</td>\n",
       "      <td>340282367.0</td>\n",
       "      <td>Nano</td>\n",
       "      <td>5</td>\n",
       "    </tr>\n",
       "  </tbody>\n",
       "</table>\n",
       "</div>"
      ],
      "text/plain": [
       "    Algorithm ProofType  TotalCoinsMined  TotalCoinSupply  coin  class\n",
       "278   Blake2b       PoW      133248297.0      340282367.0  Nano      5"
      ]
     },
     "execution_count": 46,
     "metadata": {},
     "output_type": "execute_result"
    }
   ],
   "source": [
    "preds.loc[preds.coin == \"Nano\"]"
   ]
  },
  {
   "cell_type": "code",
   "execution_count": 51,
   "id": "4b55ee53",
   "metadata": {},
   "outputs": [],
   "source": [
    "import plotly.express as px"
   ]
  },
  {
   "cell_type": "code",
   "execution_count": 55,
   "id": "b69e6b1c",
   "metadata": {},
   "outputs": [
    {
     "data": {
      "application/vnd.plotly.v1+json": {
       "config": {
        "plotlyServerURL": "https://plot.ly"
       },
       "data": [
        {
         "customdata": [
          [
           "42 Coin"
          ],
          [
           "404Coin"
          ],
          [
           "EliteCoin"
          ],
          [
           "Bitcoin"
          ],
          [
           "Ethereum"
          ],
          [
           "Litecoin"
          ],
          [
           "Dash"
          ],
          [
           "Monero"
          ],
          [
           "Ethereum Classic"
          ],
          [
           "ZCash"
          ],
          [
           "Bitshares"
          ],
          [
           "DigiByte"
          ],
          [
           "BitcoinDark"
          ],
          [
           "PayCoin"
          ],
          [
           "ProsperCoin"
          ],
          [
           "KoboCoin"
          ],
          [
           "Spreadcoin"
          ],
          [
           "Argentum"
          ],
          [
           "Aurora Coin"
          ],
          [
           "BlueCoin"
          ],
          [
           "MyriadCoin"
          ],
          [
           "MoonCoin"
          ],
          [
           "ZetaCoin"
          ],
          [
           "SexCoin"
          ],
          [
           "Quatloo"
          ],
          [
           "EnergyCoin"
          ],
          [
           "QuarkCoin"
          ],
          [
           "Riecoin"
          ],
          [
           "Digitalcoin "
          ],
          [
           "BitBar"
          ],
          [
           "Catcoin"
          ],
          [
           "CryptoBullion"
          ],
          [
           "CannaCoin"
          ],
          [
           "CryptCoin"
          ],
          [
           "CasinoCoin"
          ],
          [
           "Diamond"
          ],
          [
           "Verge"
          ],
          [
           "DevCoin"
          ],
          [
           "EarthCoin"
          ],
          [
           "E-Gulden"
          ],
          [
           "Einsteinium"
          ],
          [
           "Emerald"
          ],
          [
           "Exclusive Coin"
          ],
          [
           "FlutterCoin"
          ],
          [
           "Franko"
          ],
          [
           "FeatherCoin"
          ],
          [
           "GrandCoin"
          ],
          [
           "GlobalCoin"
          ],
          [
           "GoldCoin"
          ],
          [
           "HoboNickels"
          ],
          [
           "HyperStake"
          ],
          [
           "Infinite Coin"
          ],
          [
           "IOCoin"
          ],
          [
           "IXcoin"
          ],
          [
           "KrugerCoin"
          ],
          [
           "LuckyCoin"
          ],
          [
           "Litebar "
          ],
          [
           "MaxCoin"
          ],
          [
           "MegaCoin"
          ],
          [
           "MediterraneanCoin"
          ],
          [
           "MintCoin"
          ],
          [
           "MinCoin"
          ],
          [
           "MazaCoin"
          ],
          [
           "Nautilus Coin"
          ],
          [
           "NavCoin"
          ],
          [
           "NobleCoin"
          ],
          [
           "Namecoin"
          ],
          [
           "NyanCoin"
          ],
          [
           "OpalCoin"
          ],
          [
           "Orbitcoin"
          ],
          [
           "PotCoin"
          ],
          [
           "PhoenixCoin"
          ],
          [
           "Reddcoin"
          ],
          [
           "RonPaulCoin"
          ],
          [
           "StableCoin"
          ],
          [
           "SmartCoin"
          ],
          [
           "SuperCoin"
          ],
          [
           "SyncCoin"
          ],
          [
           "SysCoin"
          ],
          [
           "TeslaCoin"
          ],
          [
           "TigerCoin"
          ],
          [
           "TittieCoin"
          ],
          [
           "TorCoin"
          ],
          [
           "TerraCoin"
          ],
          [
           "UnbreakableCoin"
          ],
          [
           "Unobtanium"
          ],
          [
           "UroCoin"
          ],
          [
           "UnitaryStatus Dollar"
          ],
          [
           "UltraCoin"
          ],
          [
           "ViaCoin"
          ],
          [
           "VeriCoin"
          ],
          [
           "Vertcoin"
          ],
          [
           "WorldCoin"
          ],
          [
           "X11 Coin"
          ],
          [
           "Crypti"
          ],
          [
           "JouleCoin"
          ],
          [
           "StealthCoin"
          ],
          [
           "ZCC Coin"
          ],
          [
           "ByteCoin"
          ],
          [
           "DigitalNote "
          ],
          [
           "BurstCoin"
          ],
          [
           "StorjCoin"
          ],
          [
           "MonaCoin"
          ],
          [
           "Neutron"
          ],
          [
           "FairCoin"
          ],
          [
           "Gulden"
          ],
          [
           "RubyCoin"
          ],
          [
           "PesetaCoin"
          ],
          [
           "Kore"
          ],
          [
           "Wild Beast Coin"
          ],
          [
           "Dnotes"
          ],
          [
           "Flo"
          ],
          [
           "8BIT Coin"
          ],
          [
           "Sativa Coin"
          ],
          [
           "ArtByte"
          ],
          [
           "Folding Coin"
          ],
          [
           "Ucoin"
          ],
          [
           "Unitus"
          ],
          [
           "CypherPunkCoin"
          ],
          [
           "OmniCron"
          ],
          [
           "Vtorrent"
          ],
          [
           "GreenCoin"
          ],
          [
           "Cryptonite"
          ],
          [
           "MasterCoin"
          ],
          [
           "SoonCoin"
          ],
          [
           "1Credit"
          ],
          [
           "IslaCoin"
          ],
          [
           "Nexus"
          ],
          [
           "MarsCoin "
          ],
          [
           "Crypto"
          ],
          [
           "Anarchists Prime"
          ],
          [
           "Droidz"
          ],
          [
           "BowsCoin"
          ],
          [
           "Squall Coin"
          ],
          [
           "Song Coin"
          ],
          [
           "BitZeny"
          ],
          [
           "Diggits"
          ],
          [
           "Expanse"
          ],
          [
           "Paycon"
          ],
          [
           "Siacoin"
          ],
          [
           "Emercoin"
          ],
          [
           "EverGreenCoin"
          ],
          [
           "MindCoin"
          ],
          [
           "I0coin"
          ],
          [
           "Decred"
          ],
          [
           "Revolution VR"
          ],
          [
           "HOdlcoin"
          ],
          [
           "EDRCoin"
          ],
          [
           "Hitcoin"
          ],
          [
           "Gamecredits"
          ],
          [
           "DubaiCoin"
          ],
          [
           "CarpeDiemCoin"
          ],
          [
           "PWR Coin"
          ],
          [
           "BillaryCoin"
          ],
          [
           "GPU Coin"
          ],
          [
           "Adzcoin"
          ],
          [
           "SoilCoin"
          ],
          [
           "YoCoin"
          ],
          [
           "SibCoin"
          ],
          [
           "EuropeCoin"
          ],
          [
           "ZeitCoin"
          ],
          [
           "SwingCoin"
          ],
          [
           "SafeExchangeCoin"
          ],
          [
           "Nebuchadnezzar"
          ],
          [
           "Francs"
          ],
          [
           "BolivarCoin"
          ],
          [
           "Ratecoin"
          ],
          [
           "Revenu"
          ],
          [
           "Clockcoin"
          ],
          [
           "VIP Tokens"
          ],
          [
           "BitSend"
          ],
          [
           "Omni"
          ],
          [
           "Let it Ride"
          ],
          [
           "PutinCoin"
          ],
          [
           "iBankCoin"
          ],
          [
           "Frankywillcoin"
          ],
          [
           "MudraCoin"
          ],
          [
           "PizzaCoin"
          ],
          [
           "Lutetium Coin"
          ],
          [
           "Komodo"
          ],
          [
           "GoldBlocks"
          ],
          [
           "CarterCoin"
          ],
          [
           "Karbo"
          ],
          [
           "BitTokens"
          ],
          [
           "ZayedCoin"
          ],
          [
           "MustangCoin"
          ],
          [
           "ZoneCoin"
          ],
          [
           "Circuits of Value"
          ],
          [
           "RootCoin"
          ],
          [
           "DopeCoin"
          ],
          [
           "BitCurrency"
          ],
          [
           "DollarCoin"
          ],
          [
           "Swiscoin"
          ],
          [
           "Shilling"
          ],
          [
           "BuzzCoin"
          ],
          [
           "Opair"
          ],
          [
           "PesoBit"
          ],
          [
           "Halloween Coin"
          ],
          [
           "ZCoin"
          ],
          [
           "CoffeeCoin"
          ],
          [
           "RoyalCoin"
          ],
          [
           "GanjaCoin V2"
          ],
          [
           "TeamUP"
          ],
          [
           "LanaCoin"
          ],
          [
           "Elementrem"
          ],
          [
           "ZClassic"
          ],
          [
           "ARK"
          ],
          [
           "InsaneCoin"
          ],
          [
           "KiloCoin"
          ],
          [
           "ArtexCoin"
          ],
          [
           "EmberCoin"
          ],
          [
           "XenixCoin"
          ],
          [
           "FreeCoin"
          ],
          [
           "PLNCoin"
          ],
          [
           "AquariusCoin"
          ],
          [
           "Kurrent"
          ],
          [
           "Creatio"
          ],
          [
           "Eternity"
          ],
          [
           "Eurocoin"
          ],
          [
           "BitcoinFast"
          ],
          [
           "Stakenet"
          ],
          [
           "BitConnect Coin"
          ],
          [
           "MoneyCoin"
          ],
          [
           "Enigma"
          ],
          [
           "Cannabis Industry Coin"
          ],
          [
           "Russiacoin"
          ],
          [
           "PandaCoin"
          ],
          [
           "GameUnits"
          ],
          [
           "GAKHcoin"
          ],
          [
           "Allsafe"
          ],
          [
           "LiteCreed"
          ],
          [
           "OsmiumCoin"
          ],
          [
           "Bikercoins"
          ],
          [
           "HexxCoin"
          ],
          [
           "Klingon Empire Darsek"
          ],
          [
           "Internet of People"
          ],
          [
           "KushCoin"
          ],
          [
           "Printerium"
          ],
          [
           "PacCoin"
          ],
          [
           "Impeach"
          ],
          [
           "Citadel"
          ],
          [
           "Zilbercoin"
          ],
          [
           "FirstCoin"
          ],
          [
           "BeaverCoin"
          ],
          [
           "FindCoin"
          ],
          [
           "VaultCoin"
          ],
          [
           "Zero"
          ],
          [
           "OpenChat"
          ],
          [
           "Canada eCoin"
          ],
          [
           "Zoin"
          ],
          [
           "RenosCoin"
          ],
          [
           "DubaiCoin"
          ],
          [
           "VirtacoinPlus"
          ],
          [
           "TajCoin"
          ],
          [
           "Impact"
          ],
          [
           "EB3coin"
          ],
          [
           "Atmos"
          ],
          [
           "HappyCoin"
          ],
          [
           "Coinonat"
          ],
          [
           "MacronCoin"
          ],
          [
           "Condensate"
          ],
          [
           "Independent Money System"
          ],
          [
           "ArgusCoin"
          ],
          [
           "LomoCoin"
          ],
          [
           "ProCurrency"
          ],
          [
           "GoldReserve"
          ],
          [
           "BenjiRolls"
          ],
          [
           "GrowthCoin"
          ],
          [
           "ILCoin"
          ],
          [
           "Phreak"
          ],
          [
           "Degas Coin"
          ],
          [
           "HTML5 Coin"
          ],
          [
           "Ultimate Secure Cash"
          ],
          [
           "EquiTrader"
          ],
          [
           "QTUM"
          ],
          [
           "Quantum Resistant Ledger"
          ],
          [
           "Espers"
          ],
          [
           "Dynamic"
          ],
          [
           "Nano"
          ],
          [
           "ChanCoin"
          ],
          [
           "Dinastycoin"
          ],
          [
           "Denarius"
          ],
          [
           "DigitalPrice"
          ],
          [
           "Virta Unique Coin"
          ],
          [
           "Bitcoin Planet"
          ],
          [
           "Unify"
          ],
          [
           "BritCoin"
          ],
          [
           "SocialCoin"
          ],
          [
           "ArcticCoin"
          ],
          [
           "DAS"
          ],
          [
           "Linda"
          ],
          [
           "LeviarCoin"
          ],
          [
           "DeepOnion"
          ],
          [
           "Bitcore"
          ],
          [
           "gCn Coin"
          ],
          [
           "SmartCash"
          ],
          [
           "Signatum"
          ],
          [
           "Onix"
          ],
          [
           "Cream"
          ],
          [
           "Bitcoin Cash"
          ],
          [
           "Monoeci"
          ],
          [
           "Draftcoin"
          ],
          [
           "Vechain"
          ],
          [
           "Sojourn Coin"
          ],
          [
           "Stakecoin"
          ],
          [
           "NewYorkCoin"
          ],
          [
           "FrazCoin"
          ],
          [
           "Kronecoin"
          ],
          [
           "AdCoin"
          ],
          [
           "Linx"
          ],
          [
           "CoinonatX"
          ],
          [
           "Ethereum Dark"
          ],
          [
           "Sumokoin"
          ],
          [
           "Obsidian"
          ],
          [
           "Cardano"
          ],
          [
           "Regalcoin"
          ],
          [
           "BitcoinZ"
          ],
          [
           "TrezarCoin"
          ],
          [
           "Elements"
          ],
          [
           "TerraNovaCoin"
          ],
          [
           "VIVO Coin"
          ],
          [
           "Rupee"
          ],
          [
           "Bitcoin Gold"
          ],
          [
           "WomenCoin"
          ],
          [
           "Theresa May Coin"
          ],
          [
           "NamoCoin"
          ],
          [
           "LUXCoin"
          ],
          [
           "Pirl"
          ],
          [
           "Xios"
          ],
          [
           "Bitcloud 2.0"
          ],
          [
           "eBoost"
          ],
          [
           "KekCoin"
          ],
          [
           "BlackholeCoin"
          ],
          [
           "Infinity Economics"
          ],
          [
           "Pura"
          ],
          [
           "Innova"
          ],
          [
           "Ellaism"
          ],
          [
           "GoByte"
          ],
          [
           "Magnet"
          ],
          [
           "Lamden Tau"
          ],
          [
           "Electra"
          ],
          [
           "Bitcoin Diamond"
          ],
          [
           "SHIELD"
          ],
          [
           "Cash & Back Coin"
          ],
          [
           "UltraNote"
          ],
          [
           "BitCoal"
          ],
          [
           "DaxxCoin"
          ],
          [
           "Bulwark"
          ],
          [
           "Kalkulus"
          ],
          [
           "AC3"
          ],
          [
           "Lethean"
          ],
          [
           "GermanCoin"
          ],
          [
           "LiteCoin Ultra"
          ],
          [
           "PopularCoin"
          ],
          [
           "PhantomX"
          ],
          [
           "Photon"
          ],
          [
           "Sucre"
          ],
          [
           "SparksPay"
          ],
          [
           "Digiwage"
          ],
          [
           "GunCoin"
          ],
          [
           "IrishCoin"
          ],
          [
           "Trollcoin"
          ],
          [
           "Litecoin Plus"
          ],
          [
           "Monkey Project"
          ],
          [
           "Pioneer Coin"
          ],
          [
           "UnitedBitcoin"
          ],
          [
           "Interzone"
          ],
          [
           "TokenPay"
          ],
          [
           "1717 Masonic Commemorative Token"
          ],
          [
           "My Big Coin"
          ],
          [
           "TurtleCoin"
          ],
          [
           "MUNcoin"
          ],
          [
           "Unified Society USDEX"
          ],
          [
           "Niobio Cash"
          ],
          [
           "ShareChain"
          ],
          [
           "Travelflex"
          ],
          [
           "KREDS"
          ],
          [
           "Tokyo Coin"
          ],
          [
           "BiblePay"
          ],
          [
           "LitecoinCash"
          ],
          [
           "BitFlip"
          ],
          [
           "LottoCoin"
          ],
          [
           "Crypto Improvement Fund"
          ],
          [
           "Stipend"
          ],
          [
           "Poa Network"
          ],
          [
           "Pushi"
          ],
          [
           "Ellerium"
          ],
          [
           "Velox"
          ],
          [
           "Ontology"
          ],
          [
           "Callisto Network"
          ],
          [
           "BitTube"
          ],
          [
           "Poseidon"
          ],
          [
           "Aidos Kuneen"
          ],
          [
           "Bitspace"
          ],
          [
           "Briacoin"
          ],
          [
           "Ignition"
          ],
          [
           "Bitrolium"
          ],
          [
           "MedicCoin"
          ],
          [
           "Alpenschillling"
          ],
          [
           "Bitcoin Green"
          ],
          [
           "Deviant Coin"
          ],
          [
           "Abjcoin"
          ],
          [
           "Semux"
          ],
          [
           "FuturoCoin"
          ],
          [
           "Carebit"
          ],
          [
           "Zealium"
          ],
          [
           "Monero Classic"
          ],
          [
           "Proton"
          ],
          [
           "iDealCash"
          ],
          [
           "Jumpcoin"
          ],
          [
           "Infinex"
          ],
          [
           "Bitcoin Incognito"
          ],
          [
           "KEYCO"
          ],
          [
           "HollyWoodCoin"
          ],
          [
           "GINcoin"
          ],
          [
           "PlatinCoin"
          ],
          [
           "Loki"
          ],
          [
           "Newton Coin"
          ],
          [
           "Swisscoin"
          ],
          [
           "Xt3ch"
          ],
          [
           "MassGrid"
          ],
          [
           "TheVig"
          ],
          [
           "PluraCoin"
          ],
          [
           "EmaratCoin"
          ],
          [
           "Dekado"
          ],
          [
           "Lynx"
          ],
          [
           "Poseidon Quark"
          ],
          [
           "BitcoinWSpectrum"
          ],
          [
           "Muse"
          ],
          [
           "Motion"
          ],
          [
           "PlusOneCoin"
          ],
          [
           "Axe"
          ],
          [
           "Trivechain"
          ],
          [
           "Dystem"
          ],
          [
           "Giant"
          ],
          [
           "Peony Coin"
          ],
          [
           "Absolute Coin"
          ],
          [
           "Vitae"
          ],
          [
           "HexCoin"
          ],
          [
           "TPCash"
          ],
          [
           "Webchain"
          ],
          [
           "Ryo"
          ],
          [
           "Urals Coin"
          ],
          [
           "Qwertycoin"
          ],
          [
           "ARENON"
          ],
          [
           "EUNO"
          ],
          [
           "MMOCoin"
          ],
          [
           "Ketan"
          ],
          [
           "Project Pai"
          ],
          [
           "XDNA"
          ],
          [
           "PAXEX"
          ],
          [
           "Azart"
          ],
          [
           "ThunderStake"
          ],
          [
           "Kcash"
          ],
          [
           "Xchange"
          ],
          [
           "Acute Angle Cloud"
          ],
          [
           "CrypticCoin"
          ],
          [
           "Bettex coin"
          ],
          [
           "Actinium"
          ],
          [
           "Bitcoin SV"
          ],
          [
           "BitMoney"
          ],
          [
           "Junson Ming Chan Coin"
          ],
          [
           "FREDEnergy"
          ],
          [
           "HerbCoin"
          ],
          [
           "Universal Molecule"
          ],
          [
           "Lithium"
          ],
          [
           "PirateCash"
          ],
          [
           "Exosis"
          ],
          [
           "Block-Logic"
          ],
          [
           "Oduwa"
          ],
          [
           "Beam"
          ],
          [
           "Galilel"
          ],
          [
           "Bithereum"
          ],
          [
           "Crypto Sports"
          ],
          [
           "Credit"
          ],
          [
           "SLICE"
          ],
          [
           "Dash Platinum"
          ],
          [
           "Nasdacoin"
          ],
          [
           "Beetle Coin"
          ],
          [
           "Titan Coin"
          ],
          [
           "Award"
          ],
          [
           "BLAST"
          ],
          [
           "Bitcoin Rhodium"
          ],
          [
           "GlobalToken"
          ],
          [
           "Insane Coin"
          ],
          [
           "ALAX"
          ],
          [
           "LiteDoge"
          ],
          [
           "SolarCoin"
          ],
          [
           "TruckCoin"
          ],
          [
           "UFO Coin"
          ],
          [
           "OrangeCoin"
          ],
          [
           "BlakeCoin"
          ],
          [
           "BitstarCoin"
          ],
          [
           "NeosCoin"
          ],
          [
           "HyperCoin"
          ],
          [
           "PinkCoin"
          ],
          [
           "Crypto Escudo"
          ],
          [
           "AudioCoin"
          ],
          [
           "IncaKoin"
          ],
          [
           "Piggy Coin"
          ],
          [
           "Crown Coin"
          ],
          [
           "Genstake"
          ],
          [
           "SmileyCoin"
          ],
          [
           "XiaoMiCoin"
          ],
          [
           "Groestlcoin"
          ],
          [
           "CapriCoin"
          ],
          [
           " ClubCoin"
          ],
          [
           "Radium"
          ],
          [
           "Bata"
          ],
          [
           "Pakcoin"
          ],
          [
           "Creditbit "
          ],
          [
           "OKCash"
          ],
          [
           "Lisk"
          ],
          [
           "HiCoin"
          ],
          [
           "WhiteCoin"
          ],
          [
           "FriendshipCoin"
          ],
          [
           "JoinCoin"
          ],
          [
           "Triangles Coin"
          ],
          [
           "Vollar"
          ],
          [
           "EOS"
          ],
          [
           "Reality Clash"
          ],
          [
           "Oxycoin"
          ],
          [
           "TigerCash"
          ],
          [
           "Waves"
          ],
          [
           "Particl"
          ],
          [
           "BitTorrent"
          ],
          [
           "Nxt"
          ],
          [
           "ZEPHYR"
          ],
          [
           "Gapcoin"
          ],
          [
           "Beldex"
          ],
          [
           "Horizen"
          ],
          [
           "BitcoinPlus"
          ]
         ],
         "hovertemplate": "PCA1=%{x}<br>PCA2=%{y}<br>PCA3=%{z}<br>coin=%{customdata[0]}<br>class=%{marker.color}<extra></extra>",
         "legendgroup": "",
         "marker": {
          "color": [
           0,
           0,
           2,
           5,
           5,
           5,
           0,
           5,
           5,
           5,
           3,
           5,
           0,
           3,
           5,
           0,
           5,
           5,
           0,
           0,
           5,
           2,
           5,
           5,
           5,
           0,
           5,
           5,
           5,
           0,
           5,
           0,
           5,
           5,
           0,
           0,
           5,
           5,
           5,
           5,
           5,
           5,
           3,
           0,
           5,
           5,
           5,
           5,
           5,
           0,
           3,
           2,
           0,
           5,
           5,
           5,
           5,
           0,
           5,
           5,
           3,
           5,
           0,
           3,
           0,
           5,
           5,
           5,
           0,
           0,
           0,
           0,
           0,
           5,
           5,
           5,
           3,
           0,
           5,
           3,
           5,
           3,
           0,
           5,
           5,
           5,
           5,
           0,
           0,
           5,
           0,
           5,
           5,
           0,
           3,
           5,
           0,
           0,
           2,
           5,
           3,
           3,
           5,
           0,
           0,
           5,
           3,
           5,
           0,
           5,
           3,
           5,
           0,
           0,
           5,
           5,
           3,
           5,
           5,
           5,
           0,
           5,
           5,
           5,
           5,
           5,
           0,
           3,
           5,
           5,
           5,
           0,
           5,
           3,
           5,
           5,
           3,
           5,
           0,
           5,
           0,
           0,
           5,
           5,
           0,
           5,
           5,
           0,
           0,
           5,
           0,
           5,
           0,
           0,
           3,
           5,
           5,
           5,
           5,
           0,
           3,
           0,
           0,
           3,
           5,
           5,
           0,
           0,
           0,
           0,
           0,
           5,
           3,
           0,
           0,
           0,
           3,
           5,
           3,
           3,
           0,
           0,
           5,
           0,
           5,
           0,
           0,
           5,
           0,
           5,
           3,
           5,
           0,
           5,
           0,
           3,
           0,
           0,
           5,
           3,
           3,
           0,
           3,
           0,
           5,
           5,
           3,
           0,
           5,
           5,
           0,
           0,
           3,
           0,
           0,
           5,
           3,
           0,
           0,
           0,
           3,
           0,
           0,
           0,
           5,
           0,
           3,
           0,
           0,
           3,
           0,
           5,
           5,
           5,
           0,
           0,
           0,
           0,
           5,
           0,
           5,
           3,
           0,
           5,
           3,
           5,
           5,
           0,
           5,
           5,
           3,
           5,
           0,
           0,
           0,
           5,
           3,
           0,
           5,
           3,
           0,
           0,
           0,
           0,
           3,
           0,
           5,
           3,
           5,
           3,
           0,
           0,
           3,
           5,
           3,
           5,
           0,
           5,
           5,
           5,
           5,
           0,
           5,
           0,
           0,
           5,
           0,
           5,
           5,
           5,
           0,
           5,
           0,
           5,
           2,
           5,
           3,
           5,
           0,
           5,
           0,
           3,
           2,
           5,
           3,
           2,
           5,
           5,
           5,
           5,
           0,
           0,
           5,
           3,
           3,
           0,
           5,
           0,
           5,
           0,
           5,
           3,
           5,
           0,
           0,
           0,
           0,
           5,
           0,
           0,
           5,
           3,
           0,
           3,
           5,
           5,
           5,
           5,
           0,
           3,
           0,
           0,
           5,
           0,
           5,
           5,
           5,
           3,
           3,
           5,
           5,
           0,
           0,
           5,
           0,
           5,
           5,
           5,
           3,
           5,
           5,
           0,
           0,
           3,
           5,
           5,
           5,
           3,
           3,
           0,
           4,
           5,
           0,
           5,
           5,
           5,
           5,
           3,
           3,
           3,
           5,
           5,
           5,
           0,
           3,
           0,
           0,
           3,
           3,
           5,
           5,
           5,
           5,
           0,
           0,
           0,
           5,
           3,
           5,
           3,
           3,
           0,
           3,
           5,
           0,
           3,
           5,
           3,
           0,
           5,
           5,
           3,
           5,
           3,
           5,
           5,
           5,
           2,
           0,
           3,
           5,
           0,
           5,
           0,
           3,
           2,
           3,
           3,
           3,
           5,
           5,
           5,
           0,
           3,
           0,
           3,
           0,
           3,
           5,
           0,
           5,
           5,
           5,
           2,
           3,
           0,
           3,
           3,
           5,
           0,
           3,
           5,
           0,
           3,
           5,
           3,
           5,
           3,
           5,
           5,
           3,
           3,
           5,
           0,
           5,
           5,
           3,
           5,
           5,
           0,
           5,
           0,
           5,
           3,
           0,
           5,
           3,
           0,
           0,
           0,
           0,
           5,
           5,
           5,
           0,
           3,
           0,
           5,
           0,
           5,
           0,
           5,
           0,
           3,
           0,
           0,
           5,
           0,
           0,
           0,
           5,
           0,
           5,
           0,
           5,
           0,
           0,
           3,
           5,
           5,
           3,
           0,
           3,
           3,
           0,
           0,
           5,
           0,
           5,
           3,
           5,
           3,
           3,
           3,
           3,
           1,
           3,
           3,
           0,
           5,
           5,
           3
          ],
          "coloraxis": "coloraxis",
          "symbol": "circle"
         },
         "mode": "markers",
         "name": "",
         "scene": "scene",
         "showlegend": false,
         "type": "scatter3d",
         "x": [
          -0.2096911738652988,
          -0.18780482627892028,
          3.5292672875394673,
          -0.17992673208252913,
          -0.17306299706282716,
          -0.1769637651664204,
          -0.21790470080640376,
          -0.1738399875226907,
          -0.17078392767496745,
          -0.17469619468479242,
          -0.1123514614740039,
          0.22174427890515835,
          -0.21104889299047522,
          -0.19877361066009772,
          -0.17850773721422722,
          -0.19916764773649673,
          -0.1870177559994357,
          -0.17795940286427261,
          -0.20923545715577294,
          -0.1998541941814677,
          -0.12695138174801968,
          3.8279631368848497,
          -0.1760167515650731,
          -0.17421144525243334,
          -0.17765881907686723,
          -0.2077860429489705,
          -0.169399991226995,
          -0.17237773206976764,
          -0.1777958474764889,
          -0.20968529862143534,
          -0.17848526431047368,
          -0.20966465409496995,
          -0.17860622939831225,
          -0.18713387516918525,
          0.8514303913470439,
          -0.20479943431639616,
          0.24538898916017332,
          0.32933495641394783,
          0.15616334355825637,
          -0.17827332169507917,
          -0.1722996761468567,
          -0.17818042949980803,
          -0.19535483430858772,
          -0.17888147308023764,
          -0.17868122832611225,
          -0.16834578963895064,
          -0.150305931768535,
          -0.17706907687027415,
          -0.17741740574311607,
          -0.207057117359805,
          -0.18008028173537657,
          2.1690438146824085,
          -0.2177712607008981,
          -0.17987777854957773,
          -0.17370211406153,
          -0.1783082803504447,
          -0.17878497435541618,
          -0.20249254256315533,
          -0.17778728541408864,
          -0.17066724038218134,
          0.13216818954142676,
          -0.1786219590582234,
          -0.1610719369062745,
          -0.1970632037280988,
          -0.20102226966662193,
          0.0143276696814364,
          -0.17997612838682872,
          -0.1701181660786923,
          -0.20181072699438748,
          -0.20586794456361782,
          -0.2018614997921688,
          -0.20752364989287217,
          0.24414235345241234,
          -0.1785799428382708,
          -0.17583270214963262,
          -0.17788570379896074,
          -0.2052804033630893,
          -0.21827404044656853,
          -0.16243670758012563,
          -0.1903362577137154,
          -0.17925885292200303,
          -0.1431262136928003,
          -0.21814755944338068,
          -0.17963007920169005,
          -0.17955336928576818,
          -0.18041766406180637,
          -0.1873803608267206,
          -0.17598340489902395,
          -0.20787005285684826,
          -0.1782177692722903,
          -0.1855426663993355,
          -0.17231728912185704,
          -0.17419503924146287,
          -0.21810907470171756,
          -0.1910741025766147,
          -0.17934705028827322,
          -0.2015330391767496,
          -0.1969658208769298,
          4.620178880059954,
          0.05711652711782046,
          -0.12910619640813115,
          -0.18605395683357454,
          -0.17666358120405148,
          -0.20998322513862763,
          -0.20407280102498634,
          -0.15486139157198814,
          -0.1970616708152189,
          -0.1749511248564021,
          -0.20188884069518118,
          -0.1787859193301561,
          -0.1895616607418106,
          -0.17478936746201815,
          -0.20966845134562037,
          -0.20183115316184405,
          -0.15611258750537338,
          -0.15178764429145508,
          -0.20581508001735502,
          -0.172947826448867,
          -0.17369876545165283,
          -0.17862400163753855,
          -0.20930283613456893,
          -0.0031003834215763445,
          -0.14318224396278983,
          -0.17880010305792823,
          -0.1800113287155233,
          0.7811427474467895,
          -0.21825063548997256,
          -0.17902789880578632,
          -0.18655589720895344,
          -0.1730569764412508,
          -0.17963413283391375,
          -0.2041064273945791,
          -0.18693434276536897,
          -0.1948253467244437,
          -0.17611830279298338,
          -0.17503699064809938,
          -0.1948909837085049,
          -0.17439116979840483,
          -0.2011669242706665,
          0.3393911433406581,
          -0.2001974722618373,
          -0.20273121547217474,
          -0.18698645465288394,
          -0.17987920081968034,
          -0.20255309624042264,
          -0.17337394508129492,
          -0.17234942160289973,
          -0.21101203542593158,
          0.2289908682316731,
          -0.1768585432056636,
          -0.21110943839018184,
          0.3817881028937846,
          -0.04932887874964595,
          -0.20911362415992293,
          -0.19454935503491602,
          -0.18582421644531213,
          -0.17335898824721227,
          -0.17704967243527456,
          -0.17286477154433272,
          -0.21410617513813893,
          1.40786601117554,
          -0.2108132665641547,
          -0.12952869133301884,
          -0.19492445577484654,
          -0.17850574809007153,
          -0.18692681464043487,
          -0.21540845349761675,
          -0.2089559088404892,
          -0.2055624256485041,
          -0.20298277337888423,
          -0.21644615274768417,
          -0.17880018158127184,
          -0.19154282182065444,
          -0.17623507158332383,
          -0.20915851481949546,
          -0.207099645462457,
          -0.18767243143607057,
          -0.18711686163735916,
          -0.1890390585903111,
          -0.17836285388188017,
          -0.21751140913754116,
          -0.20808384208082567,
          -0.15392194364799994,
          -0.21107006232968126,
          -0.18022513367859186,
          -0.21823258528771297,
          -0.20943208280115808,
          -0.14595368464597153,
          -0.20966114358288182,
          -0.17492041488030366,
          -0.1948569614624426,
          -0.18017139873405816,
          -0.14334758371468986,
          -0.1783309913364556,
          0.307545659653837,
          -0.19352450648744499,
          -0.2091722069334335,
          -0.19852510720214203,
          -0.17361207538388546,
          -0.19272310875658696,
          -0.18977190906934674,
          -0.20169768490149212,
          -0.19202618047729605,
          -0.10915102877159875,
          -0.17405092942552383,
          -0.17472358836475577,
          -0.15149385289549153,
          -0.21767707486158858,
          -0.07143406251627149,
          -0.16942556818114632,
          1.2340584873135203,
          -0.21817420900217246,
          -0.19414699692746154,
          -0.2090244725690257,
          -0.20921501162473724,
          -0.18407003889164372,
          -0.19492445577484654,
          -0.2175540483442864,
          -0.21089749412388867,
          -0.20903344515791963,
          -0.1926606779789611,
          -0.20922747359043012,
          -0.20273301552654002,
          -0.21820928559618627,
          -0.15391312235538723,
          -0.20805893508630421,
          0.6652489643225445,
          -0.20950176362080983,
          -0.20960524530393673,
          -0.19434248221806574,
          -0.20338177740725785,
          -0.17877399488826182,
          -0.1537416708737125,
          -0.17382280422696908,
          -0.20410300711962234,
          -0.21104017399566352,
          -0.2180888581307213,
          -0.2092994766703601,
          0.8643460617092291,
          -0.20945754460395213,
          -0.17200611283788192,
          -0.1968633806303807,
          -0.20684049251332862,
          -0.17873287046658234,
          -0.18946028471038615,
          -0.17649433233712492,
          -0.17474507492680202,
          -0.18377588004090536,
          -0.17622705171347244,
          -0.1734499648720548,
          -0.1965652020913322,
          -0.17332508936100968,
          -0.21702686482032432,
          -0.20371778904479002,
          -0.21541362764376268,
          -0.13608660341158066,
          -0.19257146910538678,
          -0.21689746597155876,
          -0.1736785439856395,
          -0.1850546390362742,
          -0.21117340889088917,
          -0.2093867245457646,
          -0.20937497619721304,
          -0.19924911339250997,
          0.5850408874822018,
          -0.2175908665435101,
          -0.17813163199426765,
          -0.17204488661759712,
          -0.13393756569320497,
          -0.19495340025055127,
          -0.20826491677423062,
          1.365315038170316,
          -0.19684187489260288,
          -0.1778532082483744,
          -0.18989824990374934,
          -0.1719419294863838,
          0.6713835331891089,
          -0.17307640275817085,
          -0.16738929046688775,
          -0.17278436833738856,
          -0.10526643008402896,
          -0.20504483551487393,
          -0.18581163350112695,
          -0.20298723263589477,
          -0.20336551362715463,
          -0.17833429717510116,
          -0.20140308186600084,
          -0.17795358074283854,
          -0.18636983073522662,
          -0.18716123766339368,
          0.45204921806541254,
          -0.1533646938953409,
          -0.20150887573367113,
          -0.17288776316170612,
          4.432299756484718,
          -0.0866436620295872,
          -0.18896028489179376,
          -0.17402525582573514,
          -0.2027381093813813,
          -0.17992567295717019,
          -0.21798028275935302,
          -0.1970119685244535,
          1.586373675912954,
          -0.0692482741474821,
          -0.19473808396477285,
          2.0350663559924875,
          -0.1784572425711741,
          -0.17766947300483663,
          -0.17726732171605894,
          -0.17725076024862724,
          -0.20888520624261928,
          -0.2095823307151066,
          -0.1530813876367372,
          -0.19102253763787788,
          0.679810817289554,
          -0.21787991337696236,
          0.12477104987793475,
          -0.19895599150839624,
          -0.126774435328668,
          -0.2095093486182457,
          -0.17473590238563333,
          -0.19203038028061445,
          -0.17454418228346746,
          0.8013666771930831,
          -0.2088299327589672,
          -0.18401450594839733,
          -0.20369436711921388,
          -0.1716031849519525,
          -0.20943877494749094,
          -0.20430817522759862,
          -0.1762247823083248,
          -0.19165948603832242,
          -0.20928356120296202,
          0.0341479149216448,
          -0.18103452665596317,
          -0.17451388262292433,
          -0.1716109628124499,
          -0.17466002108936718,
          -0.21618017541999826,
          -0.14479613358580426,
          0.5474623778544659,
          -0.19701286941067406,
          -0.15961153356639524,
          -0.20578193584597784,
          1.0312712784427187,
          -0.1539472923394008,
          -0.06232293093506405,
          -0.19251081589214222,
          -0.1941906442244478,
          -0.18041680147099795,
          -0.15684638360477454,
          0.3880596859404606,
          -0.20799568624552636,
          -0.06527485582744885,
          -0.21705301222150056,
          1.23284865439925,
          -0.18712698193857075,
          -0.17474151588467907,
          -0.19298707823799757,
          -0.16522379748528876,
          -0.17744423856730834,
          -0.1911506782870999,
          -0.20961066578367296,
          -0.20577805805257146,
          -0.1870278124650533,
          -0.17990077511505106,
          -0.17318306935854158,
          -0.19191239952065456,
          -0.19335447808148312,
          -0.20923263434572967,
          11.10283008730398,
          -0.1731349439719277,
          -0.20363476356785168,
          -0.14856804882439456,
          0.08033679211536089,
          -0.17105535939233577,
          -0.1525416503260811,
          -0.17792399202771128,
          -0.0987352975431764,
          -0.16191900215457453,
          -0.17820610642148313,
          0.237583195791117,
          -0.17891079741032215,
          -0.20410656937091656,
          -0.1730445794693454,
          -0.2179796510005165,
          -0.20387757940420495,
          -0.19579280868218327,
          -0.17153725165335917,
          -0.1030736848070498,
          -0.14247382690253052,
          -0.17853402542262917,
          -0.17273442289872482,
          -0.20447859031073198,
          -0.2096467806936503,
          -0.2096207024609623,
          -0.17319455758013336,
          -0.18812732432854082,
          -0.17039898030581074,
          -0.19169865136322514,
          -0.19418587054981593,
          -0.209225185522782,
          -0.15242890977624887,
          -0.185863301465155,
          -0.20262031490015867,
          -0.19443656026828962,
          -0.15370743757477656,
          -0.192137817605205,
          -0.13450936541855968,
          -0.17379344309979272,
          -0.17360306084240615,
          -0.18067856322823864,
          -0.1731826667551845,
          -0.1966120017471322,
          -0.1737348175765747,
          -0.1478854826394434,
          -0.16788583014571382,
          2.40504707599574,
          0.054644833157177705,
          -0.1969052832418924,
          -0.16952252022632025,
          -0.2026659826450722,
          -0.1350423886842909,
          -0.20848031317109436,
          -0.18959850393536462,
          1.9818409609326693,
          -0.18783746327381637,
          -0.19714860050639946,
          -0.1925377719709138,
          -0.17365303973379564,
          -0.17302967031648536,
          -0.1871026334410842,
          -0.20345127570336982,
          -0.1943330593271376,
          -0.2067250974986554,
          -0.02133504209790151,
          -0.20410680534652378,
          -0.19259581193990874,
          -0.1785635722775534,
          -0.19917319775436151,
          -0.15560501943176738,
          -0.1723860146213246,
          -0.17121561928319445,
          3.296250813035489,
          -0.2051932089096943,
          -0.21727598605206258,
          -0.19310130010049584,
          -0.19310716116725493,
          -0.12600126363530958,
          -0.2004919927751189,
          -0.20495223904210166,
          -0.1870605424060729,
          -0.0054642742268966584,
          -0.1549700565989058,
          -0.17281475126736617,
          -0.15463527704306398,
          -0.030165121766586627,
          -0.19167467601015978,
          -0.17286497049251842,
          -0.1799257205611645,
          0.5413290361370747,
          0.06036097165317153,
          -0.04093424380627055,
          -0.20576036379105458,
          -0.1725619260685577,
          -0.1731746471700469,
          -0.19239174443703302,
          -0.17315736352654001,
          -0.17701779670060333,
          -0.20924328335561274,
          -0.17173499518619678,
          -0.20638909626591087,
          -0.1743179792040006,
          -0.19449236446001164,
          1.0480080514691235,
          -0.17255377033140545,
          -0.2058487721177751,
          -0.20849661171786885,
          -0.19621321271432265,
          -0.13817582504191975,
          -0.21365293400330396,
          -0.17894602688675645,
          -0.17113031499149528,
          -0.1773605238242827,
          -0.2175929644500552,
          -0.1285579217486231,
          0.39266135278364117,
          0.8456509418708156,
          -0.2145187857251222,
          -0.07413498938106902,
          -0.20754955221226531,
          -0.10028138186920366,
          -0.20880650443426887,
          -0.1988026219614952,
          -0.2095420745986137,
          -0.20630172951976064,
          -0.15630341450344262,
          -0.08494810904974767,
          0.06840853420823272,
          -0.20018842120696165,
          -0.17962928141934278,
          -0.20860580170731438,
          0.8008888614498861,
          -0.19925823374361248,
          -0.17179094410072418,
          -0.21298641443362196,
          -0.2064175160278098,
          -0.1952896961780797,
          -0.17868576692160637,
          -0.17583832734586732,
          -0.194196951936743,
          -0.2090467389723736,
          -0.15094667193052283,
          0.061766417630123804,
          -0.2026595870850195,
          -0.20531198183610314,
          -0.17387503078863248,
          -0.20204193077883167,
          -0.149896987542343,
          -0.13867419359872865,
          -0.17409544140500624,
          -0.13709764589578458,
          -0.17317444422622638,
          -0.17801051899095757,
          -0.19520895827450094,
          25.53075535267588,
          -0.15805306935985816,
          -0.10872424737899254,
          -0.2068514475502606,
          -0.12436221309772796,
          -0.17469753407929772,
          -0.19747009225184098
         ],
         "y": [
          -0.8081703563629153,
          -0.8106167449261189,
          -0.3172464198649164,
          0.6999688016244489,
          0.6930407850452717,
          0.5560279621164016,
          -0.756286924990288,
          0.6835766957923074,
          0.69336594752755,
          0.7001723874894236,
          -0.12523317164618844,
          0.6876701116418983,
          -0.6642364737914631,
          -0.08846739792550373,
          0.5561050045546796,
          -0.7069642234757086,
          0.607962337416205,
          0.5561550106684429,
          -0.8081999471141751,
          -0.8101668080883038,
          0.6871703649248954,
          1.1832785772506023,
          0.6997333874447221,
          0.556092033048618,
          0.5562290417431671,
          -0.8085570099168352,
          0.6484701487650635,
          0.6670969635300323,
          0.5560624233056696,
          -0.8081696734275937,
          0.5561004435953837,
          -0.8081719878154975,
          0.5560955111211482,
          0.6079784022513297,
          -0.23090095510451067,
          -0.6971469700269403,
          0.6661981754928955,
          0.6753042874538733,
          0.5387418713193589,
          0.556057429054295,
          0.5558908034619062,
          0.5560798371376572,
          -0.1313554162526184,
          -0.17060429605463248,
          0.5561035898441088,
          0.6801214579068529,
          0.5556312662484847,
          0.5559968216458618,
          0.5560759398847009,
          -0.8082548291697184,
          -0.1857500287178883,
          0.4194216978145665,
          -0.7563140071553848,
          0.6999588663230907,
          0.5560465056712802,
          0.5560607730524013,
          0.5560875638919346,
          -0.7004996030082641,
          0.5560375569936603,
          0.6707829707516347,
          -0.29925595978785513,
          0.5560869254027585,
          -0.6653876073875066,
          -0.23237653450973325,
          -0.738578830288125,
          0.5731544344929907,
          0.6999788267878968,
          0.5555876230399576,
          -0.738418809944606,
          -0.6840348576337086,
          -0.8081840017971437,
          -0.8082426664580339,
          -0.9002775567258398,
          0.5561196589542984,
          0.5564210731583192,
          0.5560920404863686,
          -0.1806355704237155,
          -0.7562944841862657,
          0.6996712452574677,
          -0.09932168182257317,
          0.6999308237220846,
          -0.12630299060391412,
          -0.7562826478180916,
          0.6999873656283694,
          0.7001143347186451,
          0.6999906050329515,
          0.6079609095956642,
          -0.8090098880696949,
          -0.8081648607080074,
          0.5560536564654509,
          -0.16924743445672172,
          0.6698760958126052,
          0.556146546667596,
          -0.7563073378982378,
          -0.09954703255276248,
          0.6999411768316145,
          -0.7384751677187107,
          -0.8070020233202191,
          0.4639837304147049,
          0.735648409671839,
          -0.06170682789266387,
          -0.12095734595131685,
          0.556046259593112,
          -0.6642802094610473,
          -0.6973108722925908,
          0.5575287847045133,
          -0.23243753665220415,
          0.555928518422169,
          -0.7383579445885494,
          0.5560925494443869,
          -0.2320841961267938,
          0.5558717353304762,
          -0.808174968140232,
          -0.7383771544694487,
          0.5552320457824583,
          0.6699523583176719,
          -0.18045203599340034,
          0.6890035325188665,
          0.6704519200190185,
          0.5560624758974939,
          -0.8081741512882591,
          0.5579365683117053,
          0.6713653180800444,
          0.5560878941369627,
          0.6999859708253625,
          0.7063527621909474,
          -0.7562992380601391,
          -0.06100551049732777,
          0.6079173643402036,
          0.6803742947253836,
          0.7000322999805954,
          -0.7001977208024561,
          0.6079491593813592,
          -0.117321366457272,
          0.5563298974732199,
          0.5562595805532872,
          -0.2325029865779156,
          0.6933737583762795,
          -0.7383619225559139,
          0.5693041627374983,
          -0.6627703408770061,
          -0.707455187409539,
          0.6079409807282103,
          0.6999591549780912,
          -0.6967457930246607,
          0.5557720196434767,
          0.6706807558225497,
          -0.6642439541711005,
          -0.7474797552682958,
          0.5560066069286024,
          -0.6642673222725721,
          0.6670078970858252,
          -0.7470990623486592,
          -0.8081300307624609,
          -0.23211825407009654,
          0.6079601675451164,
          0.6770671331989827,
          0.5563617982710235,
          0.6705672792605982,
          -0.7556999911937251,
          -0.18681547637301912,
          -0.6642167772144844,
          -0.17379610819869387,
          -0.13136774335755894,
          0.5561008498636837,
          0.6079626354838775,
          -0.7565947451387542,
          -0.6639083350591376,
          -0.6634632243165067,
          -0.7155768444846563,
          -0.7561440768062438,
          0.5560878987080647,
          -0.12285445806071227,
          -0.807458415037437,
          -0.808112167725592,
          -0.8083212177504989,
          -0.16224200694863586,
          0.6080012062278629,
          -0.18146741068165864,
          -0.024424888519740097,
          -0.75626171725136,
          -0.808158981299443,
          0.7410070525624693,
          -0.6642359283862939,
          0.6999871121757875,
          -0.7562916484431593,
          -0.8081441692063082,
          0.6880261601974402,
          -0.8081764512778257,
          0.5560483715251959,
          -0.23288499060509085,
          0.699979590980738,
          -0.16615893194998807,
          0.5561028922399714,
          -0.739251761714044,
          -0.13144931475935343,
          -0.8082756827870635,
          -0.7546761210104034,
          0.6803232588374449,
          -0.1317394954775755,
          -0.16255673039376153,
          -0.7003305567893008,
          -0.13090193066376168,
          -0.7015465007118277,
          0.6933395863253704,
          0.7001779471385303,
          -0.06972998699795058,
          -0.7563031145944644,
          0.5718051423202081,
          0.6061924131621138,
          -1.026645458520551,
          -0.7563002953062167,
          -0.13141300179284257,
          -0.8081611028373753,
          -0.8081094537998571,
          0.6081442933782065,
          -0.13136774335755894,
          -0.7562155535573655,
          -0.664274702735551,
          -0.8081800623064911,
          -0.11713631530305701,
          -0.8081594384696617,
          -0.80714192151622,
          -0.756288875220386,
          0.7410465231478208,
          -0.807961482760086,
          -0.2854835271586222,
          -0.8081600351519959,
          -0.8081753585469493,
          -0.13956727005956607,
          -0.6937534768989649,
          0.5560904529926065,
          0.7410267303961694,
          0.6803204579113694,
          -0.8074290002898395,
          -0.6642419943347078,
          -0.7562969846076465,
          -0.8081748331039996,
          0.7696082112941364,
          -0.8081355007152973,
          0.683898437421827,
          -0.2322714758845215,
          -0.8083363038955934,
          0.5560845287057754,
          -0.16257487107211413,
          0.6095025405353891,
          0.7001673039526746,
          -0.809678970809007,
          0.5559384592382404,
          0.6802860496825249,
          -0.23240916362592803,
          0.6705790070451373,
          -0.7561725077774776,
          -0.7001568842937664,
          -0.7564624103464893,
          0.5624206704996222,
          -0.1315066136654268,
          -0.7561987697545071,
          0.6488445415096123,
          -0.1319454828010115,
          -0.7558600920581185,
          -0.8081525791687986,
          -0.8081272516731777,
          -0.8065386206225318,
          0.03373196515505951,
          -0.7562831009842572,
          0.5560831384908637,
          -0.230012804214786,
          0.6999338358125665,
          -0.1313243590601003,
          -0.8080659666548925,
          -0.6882054655388435,
          -0.08815582425565649,
          0.556163466003546,
          -0.1229387891481094,
          0.6835853319034565,
          -0.6901075889711702,
          0.6705199349507085,
          0.6734335303429185,
          0.6705735146213041,
          0.738596707156601,
          -0.7154584205830667,
          0.6080176296436056,
          -0.7154634097360947,
          -0.703389372300816,
          0.5560633405470193,
          -0.7383890133118873,
          0.5561950899467257,
          0.6079808782113955,
          0.607987331462945,
          -0.7549234842239526,
          0.7410590002529956,
          -0.7384091848502113,
          0.6705606559667433,
          0.3704438972402048,
          0.6683940737552045,
          -0.12173155197392804,
          0.6093765313715841,
          -0.7035167063230877,
          0.6999685866710229,
          -0.7563184454644658,
          -0.2323823345779593,
          -0.09077488040465842,
          0.5732370238810859,
          -0.13124952712024793,
          0.10677314886004874,
          0.556091005488442,
          0.5561711881436713,
          0.5561495858995124,
          0.5561462246881769,
          -0.8081529378324183,
          -0.8081766924804933,
          0.7411323700954145,
          -0.1224294924436925,
          -0.12961630341546707,
          -0.7562732007368723,
          0.7180864350297708,
          -0.6839514090735231,
          0.6024124954327666,
          -0.8081482430414916,
          0.6802592988502706,
          -0.11857747870557905,
          0.7001415360079006,
          -0.9195935316377145,
          -0.6643942427260799,
          -0.7152629249661857,
          -0.7007087028280206,
          0.6771845617978972,
          -0.8081428110103509,
          -0.7151467867616722,
          0.5559379986540356,
          -0.1216208073864481,
          -0.8081976123363488,
          -0.10202765641579385,
          0.6079858457789522,
          0.6802817569501733,
          0.6937963667410237,
          0.6802619032154461,
          -0.7561793029386146,
          -0.06968269243925229,
          -0.7556903389649899,
          -0.7386048448831123,
          0.6887725363059134,
          -0.8081760428174521,
          0.8192643987058318,
          0.7410215746506997,
          0.7080755858587818,
          -0.13963976899060757,
          -0.13957933119009922,
          0.6086106743299377,
          0.6838768267825571,
          -0.7419365709799788,
          -0.8079518134021122,
          0.55180015414182,
          -0.7563547506082583,
          0.7199698807801856,
          0.6079837550281176,
          0.6802379321855968,
          -0.13944850029192915,
          0.6801030005031024,
          0.5560504561607148,
          -0.8085573271960458,
          -0.8081716919712446,
          -0.1804557987478175,
          0.6079756313858372,
          0.6999604052351011,
          0.667260540070377,
          -0.12281133431594882,
          -0.09506427442375881,
          -0.8081508890934841,
          2.207360762549454,
          0.6705944228053975,
          -0.8085292976083979,
          0.7411432827403478,
          0.5410026835959288,
          0.6768621725258618,
          0.6696735631725835,
          -0.16196989442294343,
          -0.054624132090429614,
          -0.058217413401129695,
          0.5561150562911686,
          0.540623446389691,
          0.6081174756685558,
          -0.6970025317015652,
          -0.05824460216932138,
          -0.7562604605973999,
          -0.7012135737106783,
          -0.23222993406890705,
          -0.1220299134129802,
          0.7032176347237505,
          0.7423970956941036,
          0.5561103398442264,
          0.6705444965693985,
          -0.7154233025162722,
          -0.8081681133069697,
          -0.8081659039994463,
          0.7000514232130834,
          -0.2323753000299358,
          0.6807161753092742,
          -0.12161282954782603,
          -0.1312625745941203,
          -0.8081524008597711,
          -0.06714515614560784,
          0.608028115848834,
          -0.7154893442849496,
          -0.13124170411140598,
          0.7409950260813124,
          -0.11847936726161229,
          -0.8042163916100866,
          0.6487656387087359,
          0.6803369263101454,
          -0.062336067888756966,
          0.6706094201839118,
          -0.2324312728975905,
          0.6803072840210274,
          0.741995016927549,
          0.6739244217356154,
          0.9117995925818058,
          -0.8235582242959772,
          -0.23230423249331647,
          0.6704291915015964,
          -0.7103471317530474,
          0.740888857702462,
          -0.8081010219640758,
          -0.13158554995317998,
          -0.2639999443159204,
          -0.13850560862240083,
          -0.08846800454378373,
          -0.12367516327795303,
          0.6699124497096675,
          0.6705895619539389,
          0.6079833145991379,
          -0.6943384465231409,
          -0.1395466765251254,
          -0.7153871402267162,
          -0.20478518300531948,
          -0.6943156445657173,
          -0.13960292905773788,
          0.5561204823196002,
          -0.8065540279832946,
          0.6864400752858163,
          0.6707116776360746,
          0.6632455933549084,
          0.6622476571537026,
          -0.18044696236465388,
          -0.7563094972410741,
          -0.2322660509766938,
          -0.13102388178548105,
          0.6968227374854467,
          -0.6964074608268133,
          -0.18032707350572222,
          0.6079897760306667,
          -0.7821011289630541,
          -0.06028667312791999,
          0.6700346092884883,
          -0.0591006376548638,
          0.699268029081794,
          -0.12543168376615713,
          0.6804064431523115,
          0.6999685963324304,
          -0.011815699378241524,
          -0.2345484742500721,
          0.7483462754055911,
          -0.7153997043638308,
          0.677258179950688,
          0.677082862807924,
          -0.08815051186791267,
          0.6706155726106992,
          0.5561739636879167,
          -0.808182486755107,
          0.7004783906411821,
          -0.7154032504206974,
          0.7001327095482934,
          -0.13954296501690297,
          -0.7828509699293016,
          0.6705946380920551,
          -0.18044632335372332,
          -0.8080977141134644,
          -0.7011186494226834,
          -0.7050557935856351,
          -0.7556569424947315,
          0.6999310564689435,
          0.6258877481241973,
          0.6999993757822073,
          -0.7563201851149265,
          -0.07110280242122896,
          -0.7991353592528057,
          0.7161416287500336,
          -0.7570566308324603,
          0.6747446565430558,
          -0.8078548084184198,
          0.6884512068602967,
          -0.8081463892612845,
          -0.08842962655181186,
          -0.8082006167704834,
          -0.756848817483111,
          0.5552707748305735,
          -0.7941020208772019,
          -0.7203232302657474,
          -0.7562140406842625,
          0.6999872037154785,
          -0.8083343719688126,
          0.5448035989024824,
          -0.808787364129132,
          0.6670566435400492,
          -0.756587425179517,
          -0.8082345990015645,
          -0.13133487736043484,
          0.5560811204913586,
          0.5561671474343407,
          -0.11704949748816007,
          -0.6643314861454105,
          -0.06971006080815056,
          -0.24742460767825084,
          -0.8084721459195856,
          -0.683936143408078,
          0.6892022148582755,
          -0.7383714361588068,
          0.6737129934670175,
          -0.0728006583303209,
          0.6933421775138077,
          -0.07312062454296864,
          -0.08995874037158669,
          -0.057729880268093794,
          -0.1313526357553957,
          -1.567916404168501,
          -0.06916615326977921,
          -0.037414013420541306,
          -0.8078089418098157,
          0.7402225077458703,
          0.7001726593245139,
          -0.23235089501363623
         ],
         "z": [
          0.16890661583499936,
          0.15847194304681841,
          2.9106378035909266,
          -0.1650253855366507,
          -0.15295367813200134,
          -0.0903346672812691,
          0.11731702958775651,
          -0.1488874978598904,
          -0.15088659096659374,
          -0.15375242178927737,
          -0.09445353197094997,
          -0.10876464835509421,
          0.09438851215233221,
          -0.10948688027380074,
          -0.09011810903976958,
          0.12199092340087508,
          -0.14188849448614171,
          -0.0897742787826927,
          0.16880543958109445,
          0.15933912230128325,
          -0.1571963456557475,
          3.8458305127836274,
          -0.165793018823282,
          -0.08962540729544838,
          -0.08933227585612832,
          0.16705367569440124,
          -0.14669276732305553,
          -0.14433662448848583,
          -0.09025634606723301,
          0.16891110002361145,
          -0.09013996629158902,
          0.16890122039528938,
          -0.09018264862719454,
          -0.14181635377646393,
          -0.19381110860229991,
          0.11469667241461762,
          -0.22243369419639372,
          -0.23239199308454236,
          -0.14066709818791054,
          -0.09034610267550963,
          -0.09046910297889316,
          -0.0902120646878816,
          -0.09907026143626446,
          -0.0068545931439765,
          -0.09014854720031518,
          -0.1483352238243684,
          -0.08899714249913618,
          -0.09051782200739297,
          -0.09013322641452012,
          0.16879255967696505,
          -0.11166255669904473,
          -0.5256666248865604,
          0.11718724511393694,
          -0.1650729979728941,
          -0.08980622139065936,
          -0.0903325003932921,
          -0.0902493007646746,
          0.11557334664922232,
          -0.09039045177047508,
          -0.1435375412489692,
          -0.35533001646957413,
          -0.09023140171079255,
          0.09468038221739682,
          -0.03478796541306073,
          0.13030368263278458,
          0.027880950350078523,
          -0.16497734245891288,
          -0.09183186554272091,
          0.1310705399357331,
          0.11050588922087988,
          0.16985887870170385,
          0.16879754066472122,
          -0.2724940068318624,
          -0.09004788151043874,
          -0.08804856521688434,
          -0.09010706181993905,
          -0.08715279995651129,
          0.11722750070971309,
          -0.1643506184201496,
          -0.09692405967654175,
          -0.1651443583881466,
          -0.08921811403111365,
          0.11730845099590838,
          -0.1648855394464754,
          -0.1641849983996259,
          -0.16497117519494395,
          -0.1419437967329056,
          0.16876015293577545,
          0.16917525115628468,
          -0.09035933588241335,
          -0.00034180866572061343,
          -0.14566599382306034,
          -0.08932680004377436,
          0.1171792265389005,
          -0.09824629532542664,
          -0.16509961868705908,
          0.13080045945909027,
          0.17692854715527132,
          -0.969020722894016,
          -0.08986863349537007,
          -0.060924355677743645,
          -0.0847156939883066,
          -0.09019580769715005,
          0.09429037742477832,
          0.11390059928407767,
          -0.07927526191780711,
          -0.03511950681688587,
          -0.09061160585490924,
          0.13139129773195413,
          -0.09022231217714966,
          -0.03221471671330778,
          -0.09089919776556565,
          0.16888451494881396,
          0.1312943932252711,
          -0.09192943868019801,
          -0.14557365392411017,
          -0.08622479752332451,
          -0.15325732795615551,
          -0.14527561691214805,
          -0.09036463099965733,
          0.16893688928217687,
          -0.0571617948159509,
          -0.13674333332977534,
          -0.0902494881949317,
          -0.16494310645377339,
          0.8527706150475648,
          0.11720471654024786,
          -0.053789939397557544,
          -0.14207251780264699,
          -0.14733994235186967,
          -0.16464170850192147,
          0.1157377669078156,
          -0.14194922391935375,
          -0.05219138416053055,
          -0.08858183982013212,
          -0.08882247796333587,
          -0.03519086026908304,
          -0.1513170230681383,
          0.13146430789590033,
          -0.6474581604668256,
          0.10378426890641898,
          0.11885377575490036,
          -0.14200053300414725,
          -0.1650716146663073,
          0.1179649957928041,
          -0.09125591071062086,
          -0.14431598726715036,
          0.09435266431181655,
          0.22380022449148054,
          -0.090437006654873,
          0.0942128141841463,
          -0.2706328906555571,
          -0.035439714967344244,
          0.16920163157302318,
          -0.033053817192906995,
          -0.14174382176685082,
          -0.14663203145984877,
          -0.08853045910920129,
          -0.14500199795203383,
          0.12100688431951503,
          0.4233886463886313,
          0.09452651684809482,
          -0.011866695355302164,
          -0.09908087621495479,
          -0.090140442341579,
          -0.14187495112782442,
          0.115970297248414,
          0.0964473890276577,
          0.09931287939162248,
          0.11584066549166519,
          0.11828508331608974,
          -0.09024947363072966,
          -0.09049001105829219,
          0.1771643932582758,
          0.16929288933010306,
          0.1684259493033756,
          -0.07034330648342983,
          -0.14169011052534333,
          -0.089547281830128,
          -0.06356474196189935,
          0.11750567503061439,
          0.16917919685733135,
          -0.08839434124851861,
          0.09438870288083957,
          -0.16496492936407964,
          0.1172483568396077,
          0.1690829938679021,
          -0.1550335527861087,
          0.168877407384426,
          -0.08995579361833786,
          -0.037263817496129184,
          -0.16499878654428207,
          0.022041755234797525,
          -0.09010642487848883,
          0.02835422110573034,
          -0.09934094527549311,
          0.16840186530103743,
          0.128617580471342,
          -0.14768407576335887,
          -0.10081394534638519,
          -0.07233007952521375,
          0.1153316723839686,
          -0.09616772603601387,
          0.17877439205130904,
          -0.15145825232223675,
          -0.15372577856738726,
          -0.09442452304704124,
          0.1172588288863744,
          0.009299862658411645,
          -0.14920737729933545,
          -1.2481237371154503,
          0.1172089865214955,
          -0.0992250762350057,
          0.1690443429174206,
          0.16930024149785017,
          -0.14051253457657845,
          -0.09908087621495479,
          0.11775113282657193,
          0.09420046356246209,
          0.16894006106605658,
          -0.05222106312950431,
          0.169026780679972,
          0.17541167288754608,
          0.11726649279072619,
          -0.08817853550580884,
          0.17025650039392065,
          -0.21054581381297252,
          0.16898757639816514,
          0.16889067814220254,
          -0.08978474358921645,
          0.11432629232440773,
          -0.09023214982571817,
          -0.08826369534152978,
          -0.14773311812585524,
          0.17367087288856847,
          0.09435963334669062,
          0.11723818028228597,
          0.168933621851497,
          0.8750091719207356,
          0.16912679688912977,
          -0.14689737899141236,
          -0.03419043791584056,
          0.1683778826300253,
          -0.09025897592454155,
          -0.0723878783900175,
          -0.13213292890305756,
          -0.1537864753173729,
          0.16409994870184755,
          -0.09072481952346179,
          -0.14787135804112514,
          -0.034900121378679955,
          -0.14499878318054468,
          0.11805433846550538,
          0.11601141683051648,
          0.11668928310798962,
          -0.050210794019025104,
          -0.09952760555544837,
          0.11792848453698625,
          -0.14263630847898084,
          -0.10092881164938516,
          0.12052070783815158,
          0.16904320520185423,
          0.1691824816108151,
          0.17914928818801992,
          0.6578167442721032,
          0.11737896897406995,
          -0.09018771389218605,
          -0.018653608100934804,
          -0.15918636123961324,
          -0.09884873797877627,
          0.16966129100982907,
          0.42910850253787935,
          -0.10753922731051183,
          -0.08971437480280989,
          -0.09073301785925195,
          -0.14859169764524835,
          0.28607784040933154,
          -0.14528776739768984,
          -0.14761982072442587,
          -0.14495743840702527,
          -0.09512356852579207,
          0.1162143431928915,
          -0.14142968127261066,
          0.11645696269517698,
          0.11748810650636385,
          -0.09032194862571047,
          0.131286022477005,
          -0.08955555603199769,
          -0.14170272283129143,
          -0.1417713820827101,
          0.5452283147328231,
          -0.08803878348371072,
          0.13116245587945483,
          -0.1450411042787252,
          -0.4953054603118234,
          -0.12661211136037112,
          -0.08931572317881928,
          -0.13249449729275378,
          0.11687789018795426,
          -0.16502641564695297,
          0.117135705890356,
          -0.034812790462585244,
          -0.0001837854334753069,
          0.017373289770188288,
          -0.09841355834264945,
          -2.243479048568847,
          -0.09018761903724773,
          -0.08964829252060685,
          -0.08971304802939442,
          -0.08972915579046192,
          0.1691070037197812,
          0.16888642803407158,
          -0.0876026415587859,
          -0.08952031112369366,
          -0.017768120921792502,
          0.11739491456890472,
          -0.017071967076304047,
          0.11186585632670797,
          -0.16417179818561364,
          0.1690507099610267,
          -0.14842335925626976,
          -0.09033553765307675,
          -0.15390026976530563,
          -0.3044862455547635,
          0.09382143728532885,
          0.12003456347255631,
          0.1157403429590228,
          -0.14576324459957643,
          0.16908950268088035,
          0.11542429804648974,
          -0.09072702675757519,
          -0.0890682372038901,
          0.16881183015331253,
          -0.15269440147280902,
          -0.14097625026738703,
          -0.14827212065552356,
          -0.14865430578315994,
          -0.14839924814421154,
          0.11812838586854728,
          -0.09328925496394863,
          -0.00392158703795999,
          0.13068784186286433,
          -0.15276514669580846,
          0.16938819247046802,
          0.4925641495330492,
          -0.08831869031635109,
          -0.05667328389505834,
          -0.08735752566063025,
          -0.08983042858395857,
          -0.13749731862453626,
          -0.1450274629830661,
          0.607464834445742,
          0.17031737629593016,
          -0.09868396226808657,
          0.11705983603548323,
          0.3282145227798227,
          -0.14178634055840858,
          -0.1485402915625496,
          -0.08896115548885511,
          -0.14802630613702766,
          -0.09027532999933235,
          0.16923284510904016,
          0.16890990712088058,
          -0.08624040658998015,
          -0.1418175175094956,
          -0.16506764389625997,
          -0.14419945941566084,
          -0.09030394674775843,
          -0.09580375132561225,
          0.16907259739544556,
          9.361702043071935,
          -0.14488975625524186,
          0.16774861336720395,
          -0.08695159799892235,
          -0.13831318392057582,
          -0.14744464479035482,
          -0.1441748240356895,
          -0.06758548228864186,
          -0.02740953366144412,
          -0.05538432394428087,
          -0.09002390183072292,
          -0.11976056521008012,
          -0.13998199876788395,
          0.11492617406571305,
          -0.05486812434488256,
          0.11745112250975519,
          0.11946794634096444,
          -0.033824172973514116,
          -0.08864468925651339,
          -0.08843425521097117,
          -0.07933414980136215,
          -0.09009254100471614,
          -0.14510891391310518,
          0.11647955725808153,
          0.16892463398176824,
          0.1689400675106934,
          -0.15421338625037131,
          -0.03360975905062491,
          -0.1451260775914291,
          -0.08902994446745485,
          -0.09841211809555464,
          0.16906535263523517,
          -0.08924172275092887,
          -0.14137942876794346,
          0.11378267715861944,
          -0.09833148545950623,
          -0.08843162203300112,
          -0.0898266996171522,
          0.2002654289688404,
          -0.14308046162368077,
          -0.14761475120155243,
          -0.050503628717601556,
          -0.1448143567241982,
          -0.035026491638114624,
          -0.1477870416361644,
          -0.08223020555132524,
          -0.14214848107435712,
          1.1758917120193804,
          0.11987860921956095,
          -0.03437406861229794,
          -0.14531367160660233,
          0.11865492344721328,
          -0.08656200154220117,
          0.16944241448141178,
          -0.0843623328838106,
          -0.23080883565102986,
          -0.08315839994536338,
          -0.1092771405021438,
          -0.09301595048946318,
          -0.1456540379665206,
          -0.14490235876110905,
          -0.1417855436171412,
          0.11368533065215107,
          -0.08967151631538658,
          0.11380034749703367,
          0.13829750289706502,
          0.11373401999876757,
          -0.08974967633555667,
          -0.09004125769920002,
          0.17907545228153263,
          -0.13092524049871604,
          -0.14415238249540258,
          -0.1383633680838954,
          0.24849884820820686,
          -0.08611567882488422,
          0.11727670143112541,
          -0.03366772770925261,
          -0.09697263813391391,
          -0.17506471404634716,
          0.11871381107925609,
          -0.0854321070869533,
          -0.14174488687440803,
          0.3374506379781961,
          -0.06041691964187728,
          -0.14487980916461823,
          -0.05923788882472422,
          -0.13972250039475298,
          -0.08434724932664411,
          -0.14713375673113532,
          -0.16502636934708437,
          0.6296168828354777,
          -0.34551684988397946,
          -0.03366943981708215,
          0.11385849760429423,
          -0.14533714114128368,
          -0.14637087999655404,
          -0.09744682735018359,
          -0.1447775105069624,
          -0.08954776382613952,
          0.168899366639756,
          -0.15170009986003383,
          0.11375678663557107,
          -0.15391861468896473,
          -0.08967221724881164,
          0.471482975787704,
          -0.14434937751727678,
          -0.08619814802918577,
          0.16945826652461227,
          0.12098896220847188,
          0.15588497754111405,
          0.12130041199243839,
          -0.16510208119647696,
          -0.12785047481390555,
          -0.1645226872154976,
          0.11717702270477522,
          -0.09888328096773896,
          0.29700917705316404,
          0.9144615308120511,
          0.11357510191824638,
          -0.16522436296992019,
          0.17090339775353527,
          -0.07499115427688198,
          0.16915293401501943,
          -0.10928527504809851,
          0.16876160033067023,
          0.115782489583575,
          -0.09174383944493711,
          0.2617669620266169,
          -0.17398611845555564,
          0.12003599233739685,
          -0.16488631537333617,
          0.16815695697044727,
          -0.023178701101034004,
          0.1669189565006977,
          -0.14447896514881184,
          0.11632763382124489,
          0.16898642722741128,
          -0.0989500270554084,
          -0.09027133523448255,
          -0.08943020370540275,
          -0.05195064181033672,
          0.09413429737906666,
          -0.09424442489625179,
          -0.08268998393465958,
          0.16818726171722312,
          0.11111560442465494,
          -0.15229840838033004,
          0.13129785766364088,
          -0.12484076437012782,
          -0.10944281772322045,
          -0.1514499964158982,
          -0.11097617542930652,
          -0.11424106294312847,
          -0.05485644025365413,
          -0.0990360161774374,
          -4.878986440040633,
          -0.06937771826450413,
          -0.12019700996044767,
          0.17124435139329391,
          -0.08878558144697465,
          -0.153751119087886,
          -0.034701875537629295
         ]
        }
       ],
       "layout": {
        "coloraxis": {
         "colorbar": {
          "title": {
           "text": "class"
          }
         },
         "colorscale": [
          [
           0,
           "#0d0887"
          ],
          [
           0.1111111111111111,
           "#46039f"
          ],
          [
           0.2222222222222222,
           "#7201a8"
          ],
          [
           0.3333333333333333,
           "#9c179e"
          ],
          [
           0.4444444444444444,
           "#bd3786"
          ],
          [
           0.5555555555555556,
           "#d8576b"
          ],
          [
           0.6666666666666666,
           "#ed7953"
          ],
          [
           0.7777777777777778,
           "#fb9f3a"
          ],
          [
           0.8888888888888888,
           "#fdca26"
          ],
          [
           1,
           "#f0f921"
          ]
         ]
        },
        "legend": {
         "tracegroupgap": 0
        },
        "margin": {
         "t": 60
        },
        "scene": {
         "domain": {
          "x": [
           0,
           1
          ],
          "y": [
           0,
           1
          ]
         },
         "xaxis": {
          "title": {
           "text": "PCA1"
          }
         },
         "yaxis": {
          "title": {
           "text": "PCA2"
          }
         },
         "zaxis": {
          "title": {
           "text": "PCA3"
          }
         }
        },
        "template": {
         "data": {
          "bar": [
           {
            "error_x": {
             "color": "#2a3f5f"
            },
            "error_y": {
             "color": "#2a3f5f"
            },
            "marker": {
             "line": {
              "color": "#E5ECF6",
              "width": 0.5
             },
             "pattern": {
              "fillmode": "overlay",
              "size": 10,
              "solidity": 0.2
             }
            },
            "type": "bar"
           }
          ],
          "barpolar": [
           {
            "marker": {
             "line": {
              "color": "#E5ECF6",
              "width": 0.5
             },
             "pattern": {
              "fillmode": "overlay",
              "size": 10,
              "solidity": 0.2
             }
            },
            "type": "barpolar"
           }
          ],
          "carpet": [
           {
            "aaxis": {
             "endlinecolor": "#2a3f5f",
             "gridcolor": "white",
             "linecolor": "white",
             "minorgridcolor": "white",
             "startlinecolor": "#2a3f5f"
            },
            "baxis": {
             "endlinecolor": "#2a3f5f",
             "gridcolor": "white",
             "linecolor": "white",
             "minorgridcolor": "white",
             "startlinecolor": "#2a3f5f"
            },
            "type": "carpet"
           }
          ],
          "choropleth": [
           {
            "colorbar": {
             "outlinewidth": 0,
             "ticks": ""
            },
            "type": "choropleth"
           }
          ],
          "contour": [
           {
            "colorbar": {
             "outlinewidth": 0,
             "ticks": ""
            },
            "colorscale": [
             [
              0,
              "#0d0887"
             ],
             [
              0.1111111111111111,
              "#46039f"
             ],
             [
              0.2222222222222222,
              "#7201a8"
             ],
             [
              0.3333333333333333,
              "#9c179e"
             ],
             [
              0.4444444444444444,
              "#bd3786"
             ],
             [
              0.5555555555555556,
              "#d8576b"
             ],
             [
              0.6666666666666666,
              "#ed7953"
             ],
             [
              0.7777777777777778,
              "#fb9f3a"
             ],
             [
              0.8888888888888888,
              "#fdca26"
             ],
             [
              1,
              "#f0f921"
             ]
            ],
            "type": "contour"
           }
          ],
          "contourcarpet": [
           {
            "colorbar": {
             "outlinewidth": 0,
             "ticks": ""
            },
            "type": "contourcarpet"
           }
          ],
          "heatmap": [
           {
            "colorbar": {
             "outlinewidth": 0,
             "ticks": ""
            },
            "colorscale": [
             [
              0,
              "#0d0887"
             ],
             [
              0.1111111111111111,
              "#46039f"
             ],
             [
              0.2222222222222222,
              "#7201a8"
             ],
             [
              0.3333333333333333,
              "#9c179e"
             ],
             [
              0.4444444444444444,
              "#bd3786"
             ],
             [
              0.5555555555555556,
              "#d8576b"
             ],
             [
              0.6666666666666666,
              "#ed7953"
             ],
             [
              0.7777777777777778,
              "#fb9f3a"
             ],
             [
              0.8888888888888888,
              "#fdca26"
             ],
             [
              1,
              "#f0f921"
             ]
            ],
            "type": "heatmap"
           }
          ],
          "heatmapgl": [
           {
            "colorbar": {
             "outlinewidth": 0,
             "ticks": ""
            },
            "colorscale": [
             [
              0,
              "#0d0887"
             ],
             [
              0.1111111111111111,
              "#46039f"
             ],
             [
              0.2222222222222222,
              "#7201a8"
             ],
             [
              0.3333333333333333,
              "#9c179e"
             ],
             [
              0.4444444444444444,
              "#bd3786"
             ],
             [
              0.5555555555555556,
              "#d8576b"
             ],
             [
              0.6666666666666666,
              "#ed7953"
             ],
             [
              0.7777777777777778,
              "#fb9f3a"
             ],
             [
              0.8888888888888888,
              "#fdca26"
             ],
             [
              1,
              "#f0f921"
             ]
            ],
            "type": "heatmapgl"
           }
          ],
          "histogram": [
           {
            "marker": {
             "pattern": {
              "fillmode": "overlay",
              "size": 10,
              "solidity": 0.2
             }
            },
            "type": "histogram"
           }
          ],
          "histogram2d": [
           {
            "colorbar": {
             "outlinewidth": 0,
             "ticks": ""
            },
            "colorscale": [
             [
              0,
              "#0d0887"
             ],
             [
              0.1111111111111111,
              "#46039f"
             ],
             [
              0.2222222222222222,
              "#7201a8"
             ],
             [
              0.3333333333333333,
              "#9c179e"
             ],
             [
              0.4444444444444444,
              "#bd3786"
             ],
             [
              0.5555555555555556,
              "#d8576b"
             ],
             [
              0.6666666666666666,
              "#ed7953"
             ],
             [
              0.7777777777777778,
              "#fb9f3a"
             ],
             [
              0.8888888888888888,
              "#fdca26"
             ],
             [
              1,
              "#f0f921"
             ]
            ],
            "type": "histogram2d"
           }
          ],
          "histogram2dcontour": [
           {
            "colorbar": {
             "outlinewidth": 0,
             "ticks": ""
            },
            "colorscale": [
             [
              0,
              "#0d0887"
             ],
             [
              0.1111111111111111,
              "#46039f"
             ],
             [
              0.2222222222222222,
              "#7201a8"
             ],
             [
              0.3333333333333333,
              "#9c179e"
             ],
             [
              0.4444444444444444,
              "#bd3786"
             ],
             [
              0.5555555555555556,
              "#d8576b"
             ],
             [
              0.6666666666666666,
              "#ed7953"
             ],
             [
              0.7777777777777778,
              "#fb9f3a"
             ],
             [
              0.8888888888888888,
              "#fdca26"
             ],
             [
              1,
              "#f0f921"
             ]
            ],
            "type": "histogram2dcontour"
           }
          ],
          "mesh3d": [
           {
            "colorbar": {
             "outlinewidth": 0,
             "ticks": ""
            },
            "type": "mesh3d"
           }
          ],
          "parcoords": [
           {
            "line": {
             "colorbar": {
              "outlinewidth": 0,
              "ticks": ""
             }
            },
            "type": "parcoords"
           }
          ],
          "pie": [
           {
            "automargin": true,
            "type": "pie"
           }
          ],
          "scatter": [
           {
            "marker": {
             "colorbar": {
              "outlinewidth": 0,
              "ticks": ""
             }
            },
            "type": "scatter"
           }
          ],
          "scatter3d": [
           {
            "line": {
             "colorbar": {
              "outlinewidth": 0,
              "ticks": ""
             }
            },
            "marker": {
             "colorbar": {
              "outlinewidth": 0,
              "ticks": ""
             }
            },
            "type": "scatter3d"
           }
          ],
          "scattercarpet": [
           {
            "marker": {
             "colorbar": {
              "outlinewidth": 0,
              "ticks": ""
             }
            },
            "type": "scattercarpet"
           }
          ],
          "scattergeo": [
           {
            "marker": {
             "colorbar": {
              "outlinewidth": 0,
              "ticks": ""
             }
            },
            "type": "scattergeo"
           }
          ],
          "scattergl": [
           {
            "marker": {
             "colorbar": {
              "outlinewidth": 0,
              "ticks": ""
             }
            },
            "type": "scattergl"
           }
          ],
          "scattermapbox": [
           {
            "marker": {
             "colorbar": {
              "outlinewidth": 0,
              "ticks": ""
             }
            },
            "type": "scattermapbox"
           }
          ],
          "scatterpolar": [
           {
            "marker": {
             "colorbar": {
              "outlinewidth": 0,
              "ticks": ""
             }
            },
            "type": "scatterpolar"
           }
          ],
          "scatterpolargl": [
           {
            "marker": {
             "colorbar": {
              "outlinewidth": 0,
              "ticks": ""
             }
            },
            "type": "scatterpolargl"
           }
          ],
          "scatterternary": [
           {
            "marker": {
             "colorbar": {
              "outlinewidth": 0,
              "ticks": ""
             }
            },
            "type": "scatterternary"
           }
          ],
          "surface": [
           {
            "colorbar": {
             "outlinewidth": 0,
             "ticks": ""
            },
            "colorscale": [
             [
              0,
              "#0d0887"
             ],
             [
              0.1111111111111111,
              "#46039f"
             ],
             [
              0.2222222222222222,
              "#7201a8"
             ],
             [
              0.3333333333333333,
              "#9c179e"
             ],
             [
              0.4444444444444444,
              "#bd3786"
             ],
             [
              0.5555555555555556,
              "#d8576b"
             ],
             [
              0.6666666666666666,
              "#ed7953"
             ],
             [
              0.7777777777777778,
              "#fb9f3a"
             ],
             [
              0.8888888888888888,
              "#fdca26"
             ],
             [
              1,
              "#f0f921"
             ]
            ],
            "type": "surface"
           }
          ],
          "table": [
           {
            "cells": {
             "fill": {
              "color": "#EBF0F8"
             },
             "line": {
              "color": "white"
             }
            },
            "header": {
             "fill": {
              "color": "#C8D4E3"
             },
             "line": {
              "color": "white"
             }
            },
            "type": "table"
           }
          ]
         },
         "layout": {
          "annotationdefaults": {
           "arrowcolor": "#2a3f5f",
           "arrowhead": 0,
           "arrowwidth": 1
          },
          "autotypenumbers": "strict",
          "coloraxis": {
           "colorbar": {
            "outlinewidth": 0,
            "ticks": ""
           }
          },
          "colorscale": {
           "diverging": [
            [
             0,
             "#8e0152"
            ],
            [
             0.1,
             "#c51b7d"
            ],
            [
             0.2,
             "#de77ae"
            ],
            [
             0.3,
             "#f1b6da"
            ],
            [
             0.4,
             "#fde0ef"
            ],
            [
             0.5,
             "#f7f7f7"
            ],
            [
             0.6,
             "#e6f5d0"
            ],
            [
             0.7,
             "#b8e186"
            ],
            [
             0.8,
             "#7fbc41"
            ],
            [
             0.9,
             "#4d9221"
            ],
            [
             1,
             "#276419"
            ]
           ],
           "sequential": [
            [
             0,
             "#0d0887"
            ],
            [
             0.1111111111111111,
             "#46039f"
            ],
            [
             0.2222222222222222,
             "#7201a8"
            ],
            [
             0.3333333333333333,
             "#9c179e"
            ],
            [
             0.4444444444444444,
             "#bd3786"
            ],
            [
             0.5555555555555556,
             "#d8576b"
            ],
            [
             0.6666666666666666,
             "#ed7953"
            ],
            [
             0.7777777777777778,
             "#fb9f3a"
            ],
            [
             0.8888888888888888,
             "#fdca26"
            ],
            [
             1,
             "#f0f921"
            ]
           ],
           "sequentialminus": [
            [
             0,
             "#0d0887"
            ],
            [
             0.1111111111111111,
             "#46039f"
            ],
            [
             0.2222222222222222,
             "#7201a8"
            ],
            [
             0.3333333333333333,
             "#9c179e"
            ],
            [
             0.4444444444444444,
             "#bd3786"
            ],
            [
             0.5555555555555556,
             "#d8576b"
            ],
            [
             0.6666666666666666,
             "#ed7953"
            ],
            [
             0.7777777777777778,
             "#fb9f3a"
            ],
            [
             0.8888888888888888,
             "#fdca26"
            ],
            [
             1,
             "#f0f921"
            ]
           ]
          },
          "colorway": [
           "#636efa",
           "#EF553B",
           "#00cc96",
           "#ab63fa",
           "#FFA15A",
           "#19d3f3",
           "#FF6692",
           "#B6E880",
           "#FF97FF",
           "#FECB52"
          ],
          "font": {
           "color": "#2a3f5f"
          },
          "geo": {
           "bgcolor": "white",
           "lakecolor": "white",
           "landcolor": "#E5ECF6",
           "showlakes": true,
           "showland": true,
           "subunitcolor": "white"
          },
          "hoverlabel": {
           "align": "left"
          },
          "hovermode": "closest",
          "mapbox": {
           "style": "light"
          },
          "paper_bgcolor": "white",
          "plot_bgcolor": "#E5ECF6",
          "polar": {
           "angularaxis": {
            "gridcolor": "white",
            "linecolor": "white",
            "ticks": ""
           },
           "bgcolor": "#E5ECF6",
           "radialaxis": {
            "gridcolor": "white",
            "linecolor": "white",
            "ticks": ""
           }
          },
          "scene": {
           "xaxis": {
            "backgroundcolor": "#E5ECF6",
            "gridcolor": "white",
            "gridwidth": 2,
            "linecolor": "white",
            "showbackground": true,
            "ticks": "",
            "zerolinecolor": "white"
           },
           "yaxis": {
            "backgroundcolor": "#E5ECF6",
            "gridcolor": "white",
            "gridwidth": 2,
            "linecolor": "white",
            "showbackground": true,
            "ticks": "",
            "zerolinecolor": "white"
           },
           "zaxis": {
            "backgroundcolor": "#E5ECF6",
            "gridcolor": "white",
            "gridwidth": 2,
            "linecolor": "white",
            "showbackground": true,
            "ticks": "",
            "zerolinecolor": "white"
           }
          },
          "shapedefaults": {
           "line": {
            "color": "#2a3f5f"
           }
          },
          "ternary": {
           "aaxis": {
            "gridcolor": "white",
            "linecolor": "white",
            "ticks": ""
           },
           "baxis": {
            "gridcolor": "white",
            "linecolor": "white",
            "ticks": ""
           },
           "bgcolor": "#E5ECF6",
           "caxis": {
            "gridcolor": "white",
            "linecolor": "white",
            "ticks": ""
           }
          },
          "title": {
           "x": 0.05
          },
          "xaxis": {
           "automargin": true,
           "gridcolor": "white",
           "linecolor": "white",
           "ticks": "",
           "title": {
            "standoff": 15
           },
           "zerolinecolor": "white",
           "zerolinewidth": 2
          },
          "yaxis": {
           "automargin": true,
           "gridcolor": "white",
           "linecolor": "white",
           "ticks": "",
           "title": {
            "standoff": 15
           },
           "zerolinecolor": "white",
           "zerolinewidth": 2
          }
         }
        }
       }
      }
     },
     "metadata": {},
     "output_type": "display_data"
    }
   ],
   "source": [
    "fig = px.scatter_3d(df_pca, x='PCA1', y='PCA2', z='PCA3',\n",
    "              color='class', hover_data=[\"coin\"])\n",
    "fig.show()"
   ]
  }
 ],
 "metadata": {
  "kernelspec": {
   "display_name": "Python 3.8.8 64-bit ('base': conda)",
   "language": "python",
   "name": "python388jvsc74a57bd0f39cb7803d4bf14ebd90d6068e516543ac3040d4ee88c2b393ba4df23224bcab"
  },
  "language_info": {
   "codemirror_mode": {
    "name": "ipython",
    "version": 3
   },
   "file_extension": ".py",
   "mimetype": "text/x-python",
   "name": "python",
   "nbconvert_exporter": "python",
   "pygments_lexer": "ipython3",
   "version": "3.8.8"
  }
 },
 "nbformat": 4,
 "nbformat_minor": 5
}
